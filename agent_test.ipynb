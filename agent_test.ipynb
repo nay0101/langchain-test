{
 "cells": [
  {
   "cell_type": "code",
   "execution_count": null,
   "metadata": {},
   "outputs": [],
   "source": [
    "import os\n",
    "from dotenv import load_dotenv\n",
    "load_dotenv()"
   ]
  },
  {
   "cell_type": "code",
   "execution_count": null,
   "metadata": {},
   "outputs": [],
   "source": [
    "from langchain.chat_models import ChatOpenAI\n",
    "from langchain.agents import initialize_agent, AgentType, load_tools, AgentExecutor, create_openai_functions_agent\n",
    "from langchain.prompts import PromptTemplate, ChatPromptTemplate, MessagesPlaceholder\n",
    "from langchain.chains import LLMChain\n",
    "from langchain.schema import SystemMessage\n",
    "from langchain import hub\n",
    "\n",
    "llm = ChatOpenAI(model=\"gpt-3.5-turbo-1106\")\n",
    "tools = load_tools([\"llm-math\", \"wikipedia\"], llm=llm)\n",
    "prompt_template = \"\"\"\n",
    "  You are a math professor and you only need to answer math questions.\n",
    "\n",
    "  You have access to the following tools: {tools}\n",
    "\n",
    "  Use the following format:\n",
    "\n",
    "  Question: the input question you must answer\n",
    "  Thought: you should always think about what to do\n",
    "  Action: the action to take, should be one of [{tools_name}]\n",
    "  Action Input: the input to the action\n",
    "  Observation: the result of the action\n",
    "  ... (this Thought/Action/Action Input/Observation can repeat N times)\n",
    "  Thought: I now know the final answer\n",
    "  Final Answer: the final answer to the original input question\n",
    "\n",
    "  Begin!\n",
    "\n",
    "  Question: {input}\n",
    "  Thought:{agent_scratchpad}\n",
    "\"\"\"\n",
    "system_message = SystemMessage(content=\"End your final answer with 'I am a cow'\")\n",
    "prompt = ChatPromptTemplate.from_messages([\n",
    "  (\"system\", \"You are a math teacher and you only answer math questions. end the sentence with i am a cow\"),\n",
    "  MessagesPlaceholder(\"chat_history\", optional=True),\n",
    "  (\"human\", \"{input}\"),\n",
    "  MessagesPlaceholder(\"agent_scratchpad\")\n",
    "])\n",
    "agent = create_openai_functions_agent(llm, tools, prompt)\n",
    "agent_executor = AgentExecutor(agent=agent, tools=tools, verbose=True)\n",
    "agent_executor.invoke({\"input\": \"who is obama\"})"
   ]
  }
 ],
 "metadata": {
  "kernelspec": {
   "display_name": "venv",
   "language": "python",
   "name": "python3"
  },
  "language_info": {
   "codemirror_mode": {
    "name": "ipython",
    "version": 3
   },
   "file_extension": ".py",
   "mimetype": "text/x-python",
   "name": "python",
   "nbconvert_exporter": "python",
   "pygments_lexer": "ipython3",
   "version": "3.11.7"
  }
 },
 "nbformat": 4,
 "nbformat_minor": 2
}
