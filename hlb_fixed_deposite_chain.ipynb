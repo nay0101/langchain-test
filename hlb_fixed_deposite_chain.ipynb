{
 "cells": [
  {
   "cell_type": "markdown",
   "metadata": {},
   "source": [
    "Load API Keys"
   ]
  },
  {
   "cell_type": "code",
   "execution_count": null,
   "metadata": {},
   "outputs": [],
   "source": [
    "from dotenv import load_dotenv\n",
    "load_dotenv()"
   ]
  },
  {
   "cell_type": "markdown",
   "metadata": {},
   "source": [
    "Load Contents from HLB Fixed Deposite Pages"
   ]
  },
  {
   "cell_type": "code",
   "execution_count": null,
   "metadata": {},
   "outputs": [],
   "source": [
    "from langchain.document_loaders import WebBaseLoader\n",
    "\n",
    "loader = WebBaseLoader([\n",
    "  \"https://www.hlb.com.my/en/personal-banking/fixed-deposit.html?icp=hlb-en-all-footer-txt-fd\",\n",
    "  \"https://www.hlb.com.my/en/personal-banking/fixed-deposit/fixed-deposit-account/fixed-deposit-account.html\", \n",
    "  \"https://www.hlb.com.my/en/personal-banking/fixed-deposit/fixed-deposit-account/e-fixed-deposit.html\",\n",
    "  \"https://www.hlb.com.my/en/personal-banking/fixed-deposit/fixed-deposit-account/flexi-fd.html\",\n",
    "  \"https://www.hlb.com.my/en/personal-banking/fixed-deposit/fixed-deposit-account/senior-savers-flexi-fd.html\",\n",
    "  \"https://www.hlb.com.my/en/personal-banking/fixed-deposit/fixed-deposit-account/junior-fixed-deposit.html\",\n",
    "  \"https://www.hlb.com.my/en/personal-banking/fixed-deposit/fixed-deposit-account/foreign-fixed-deposit-account.html\",\n",
    "  \"https://www.hlb.com.my/en/personal-banking/help-support/fees-and-charges/deposits.html\",\n",
    "])\n",
    "data = loader.load()\n",
    "data"
   ]
  },
  {
   "cell_type": "markdown",
   "metadata": {},
   "source": [
    "Split the Loaded Data into Chunks"
   ]
  },
  {
   "cell_type": "code",
   "execution_count": null,
   "metadata": {},
   "outputs": [],
   "source": [
    "from langchain.text_splitter import RecursiveCharacterTextSplitter\n",
    "\n",
    "text_splitter = RecursiveCharacterTextSplitter(chunk_size=1000, chunk_overlap=100)\n",
    "texts = text_splitter.split_documents(data)\n",
    "texts"
   ]
  },
  {
   "cell_type": "markdown",
   "metadata": {},
   "source": [
    "Initialize Pinecone"
   ]
  },
  {
   "cell_type": "code",
   "execution_count": null,
   "metadata": {},
   "outputs": [],
   "source": [
    "import pinecone\n",
    "import os\n",
    "\n",
    "pinecone.init(\n",
    "  api_key=os.getenv(\"PINECONE_API_KEY\"),\n",
    "  environment=os.getenv(\"PINECONE_ENVIRONMENT\")\n",
    ")\n",
    "index_name = \"main-index\"\n",
    "namespace = \"hlb-fixed-deposit\"\n",
    "if index_name not in pinecone.list_indexes():\n",
    "  pinecone.create_index(\n",
    "    name=index_name,\n",
    "    metric=\"cosine\",\n",
    "    dimension=1536\n",
    "  )\n",
    "index = pinecone.Index(index_name)\n",
    "index.delete(delete_all=True, namespace=namespace)"
   ]
  },
  {
   "cell_type": "markdown",
   "metadata": {},
   "source": [
    "Create Embeddings and Vectors to Insert to Pinecone Database"
   ]
  },
  {
   "cell_type": "code",
   "execution_count": null,
   "metadata": {},
   "outputs": [],
   "source": [
    "from langchain.vectorstores import Pinecone\n",
    "from langchain.embeddings import OpenAIEmbeddings\n",
    "\n",
    "embeddings = OpenAIEmbeddings(model=\"text-embedding-ada-002\")\n",
    "docs = [t.page_content for t in texts]\n",
    "vector = Pinecone.from_texts(docs, embeddings, index_name=index_name, namespace=namespace)"
   ]
  },
  {
   "cell_type": "markdown",
   "metadata": {},
   "source": [
    "Create Retriever for Vector Search"
   ]
  },
  {
   "cell_type": "code",
   "execution_count": null,
   "metadata": {},
   "outputs": [],
   "source": [
    "retriever = vector.as_retriever(search_type=\"similarity_score_threshold\" ,search_kwargs={'score_threshold': 0.6, 'k': 4})\n",
    "retriever"
   ]
  },
  {
   "cell_type": "markdown",
   "metadata": {},
   "source": [
    "Creating Prompt Template"
   ]
  },
  {
   "cell_type": "code",
   "execution_count": null,
   "metadata": {},
   "outputs": [],
   "source": [
    "from langchain.chat_models import ChatOpenAI\n",
    "from langchain.prompts import PromptTemplate\n",
    "\n",
    "llm = ChatOpenAI(model=\"gpt-4-1106-preview\", temperature=0)\n",
    "prompt_template = \"\"\"\n",
    "  You are a helpful assistant who should reply to inputs related only to the HongLeong Bank aka HLB.\n",
    "\n",
    "  Chat History:\n",
    "  {chat_history}\n",
    "\n",
    "  Reply to the following input: {input}\n",
    "  By only referring the follwing document: {document}\n",
    "  If you don't have enought information from the document, don't answer with your own knowledge.\n",
    "  You can refer to chat history also.\n",
    "  Your answer should be detailed but if you have to do calculation, don't show your work or equations, double check your answer, just provide the final value, and you don't need to show reference.\n",
    "  If the bank's name is not provided in the input, answer with the assumption that the question is about HLB.\n",
    "  If the bank's name is provided and it's not HLB, don't answer that question.\n",
    "  You don't need to answer if the input requires you to do something creative such as writing a song or making a joke.\n",
    "\"\"\"\n",
    "prompt = PromptTemplate(template=prompt_template, input_variables=['input', 'document', 'chat_history'])"
   ]
  },
  {
   "cell_type": "markdown",
   "metadata": {},
   "source": [
    "Storing History and Creating Chain"
   ]
  },
  {
   "cell_type": "code",
   "execution_count": null,
   "metadata": {},
   "outputs": [],
   "source": [
    "from langchain.chains import LLMChain\n",
    "from langchain.memory import ConversationBufferWindowMemory\n",
    "from langchain.callbacks import get_openai_callback\n",
    "\n",
    "memory = ConversationBufferWindowMemory(memory_key=\"chat_history\", input_key=\"input\", k=4)\n",
    "chain = LLMChain(llm=llm, prompt=prompt, memory=memory, verbose=True)\n",
    "\n",
    "def ask_question(question):\n",
    "  with get_openai_callback() as cb:\n",
    "      document = retriever.get_relevant_documents(question)\n",
    "      result = chain.run(input=question, document=document)\n",
    "      print(f'{cb}\\n')\n",
    "      print('Retrieved Documents:')\n",
    "      for i in range(len(document)):\n",
    "        print(f'{i}. {document[i]}')\n",
    "      print(f'\\nAnswer: {result}')\n"
   ]
  },
  {
   "cell_type": "markdown",
   "metadata": {},
   "source": [
    "Running the Chain"
   ]
  },
  {
   "cell_type": "code",
   "execution_count": 43,
   "metadata": {},
   "outputs": [
    {
     "name": "stdout",
     "output_type": "stream",
     "text": [
      "\n",
      "\n",
      "\u001b[1m> Entering new LLMChain chain...\u001b[0m\n",
      "Prompt after formatting:\n",
      "\u001b[32;1m\u001b[1;3m\n",
      "  You are a helpful assistant who should reply to inputs related only to the HongLeong Bank aka HLB.\n",
      "\n",
      "  Chat History:\n",
      "  Human: Lets say I want to invest RM 5000 in Fixed Deposit for 9 months. Please calculate total withdrawal amount at the end of the term.\n",
      "AI: Based on the provided documents, the interest rate for a Fixed Deposit (FD) for a tenure of 7-11 months is 2.35% per annum. For an investment of RM 5000 for 9 months, the total withdrawal amount at the end of the term would be RM 5,088.13.\n",
      "Human: How many types of fixed deposit Citibank provide?\n",
      "AI: I'm sorry, but I cannot provide information on Citibank's fixed deposit products as the documents provided only contain information related to HongLeong Bank's fixed deposit accounts.\n",
      "\n",
      "  Reply to the following input: Do you know how to calculate compound interest? is it in the document?\n",
      "  By only referring the follwing document: [Document(page_content='Terms and Conditions apply.\\n\\n\\n\\n\\nMember of PIDM. Protected by PIDM up to RM250,000 for each depositor.\\n\\n\\n\\n\\n\\n\\n\\n\\n\\n\\n\\n\\n\\n\\n\\n\\n\\n\\n\\n\\n\\n\\n\\nTenure\\nInterest Rates (p.a.)\\n1 month\\n1.85%\\n2 months\\n2.25%\\n3 months\\n2.25%\\n4 months\\n2.30%\\n5 months\\n2.30%\\n6 months\\n2.30%\\n7 months\\n2.35%\\n8 months\\n2.35%\\n9 months\\n2.35%\\n10 months\\n2.35%\\n11 months\\n2.35%\\n12 months\\n2.35%\\n13 - 60 months\\n\\n2.35%\\n\\n\\n\\n\\n\\n\\n\\n\\n\\n\\n\\n\\n\\n\\n\\n\\n\\n\\nImportant notice\\nPlease click\\xa0HERE\\xa0for the exhaustive list of fees and charges.\\n\\n\\n\\n\\n\\n\\n\\n\\n\\n\\n\\n\\n\\n\\n\\n\\n\\nEnglish\\n\\n\\n\\n\\n\\n\\n\\n\\n\\n\\n\\ne-Fixed Deposit Terms and Conditions of Accounts\\n\\n\\n\\n\\n\\n\\n\\n\\nGeneral Term & Condition of Accounts\\n\\n\\n\\n\\n\\n\\n\\n\\n\\n\\n\\n\\n\\n\\n\\n\\n\\n\\n\\n\\n\\n\\nThese may interest you\\n\\n\\n\\n\\n\\nEdit here to enter\\r\\n          details for productdetail page promotion\\n\\n\\n\\n\\n\\n\\n\\n\\n\\r\\n                      Deposits\\r\\n                    \\nPay&Save Account (with Multi Currency Feature)\\n\\r\\n                      Find Out More'), Document(page_content='0.80\\n0.15\\n0.55\\n0.73\\n-\\n0.65\\n0.20\\n-\\n0.95\\n0.25\\n6\\xa0MONTHS\\n\\n0.85\\n0.15\\n0.65\\n0.75\\n-\\n0.75\\n0.25\\n-\\n1.10\\n0.30\\n7\\xa0MONTHS\\n\\n0.85\\n0.20\\n0.65\\n0.80\\n-\\n0.75\\n0.30\\n-\\n1.15\\n0.30\\n8\\xa0MONTHS\\n\\n0.85\\n0.20\\n0.65\\n0.85\\n-\\n0.75\\n0.35\\n-\\n1.15\\n0.35\\n9\\xa0MONTHS\\n\\n0.90\\n0.20\\n0.70\\n0.90\\n-\\n0.80\\n0.45\\n-\\n1.20\\n0.35\\n10\\xa0MONTHS\\n\\n0.90\\n0.25\\n0.75\\n1.00\\n-\\n0.85\\n0.45\\n-\\n1.25\\n0.35\\n11\\xa0MONTHS\\n\\n0.90\\n0.25\\n0.75\\n1.10\\n-\\n0.85\\n0.50\\n-\\n1.30\\n0.35\\n12\\xa0MONTHS\\n\\n0.95\\n0.25\\n0.80\\n1.15\\n-\\n0.90\\n0.60\\n-\\n1.40\\n0.35\\n\\n\\n\\n\\n\\n\\n\\n\\n\\n\\n\\n\\n\\n\\n\\n\\n\\n\\nImportant notice\\nPlease click\\xa0HERE\\xa0for the exhaustive list of fees and charges.\\n\\n\\n\\n\\n\\n\\n\\n\\n\\n\\n\\n\\n\\n\\n\\n\\n\\nEnglish\\n\\n\\n\\n\\n\\n\\n\\n\\n\\n\\n\\nTerms & Condition Foreign Currency Account\\n\\n\\n\\n\\n\\n\\n\\n\\nGeneral Terms & Conditions of Accounts\\n\\n\\n\\n\\n\\n\\n\\n\\n\\n\\n\\n\\n\\n\\n\\n\\n\\n\\n\\n\\n\\n\\n\\n\\n\\n\\n\\n\\n\\n\\n\\n\\n\\n\\nThese may interest you\\n\\n\\n\\n\\n\\nEdit here to enter\\r\\n          details for productdetail page promotion\\n\\n\\n\\n\\n\\n\\n\\n\\n\\r\\n                      Deposits\\r\\n                    \\nPay&Save Account (with Multi Currency Feature)\\n\\r\\n                      Find Out More'), Document(page_content='Apply Online\\n                            \\n\\nCredit Card\\nPersonal Loans\\nCurrent / Saving Account\\n\\n\\n\\n\\n                                Promotions\\n                            \\n\\nLatest Promotions\\n\\n\\n\\n\\n\\n\\n\\n\\n\\n\\n\\n\\n\\n\\n\\n\\n\\n\\n\\n\\n\\n\\n\\n\\n\\n\\n\\n\\n\\nFixed Deposit Account\\r\\n                                >\\n\\n\\r\\n                            Fixed Deposit\\r\\n                        \\n\\n\\n\\n\\n\\n\\n\\n\\n\\n\\n\\n\\n\\n\\n\\n\\n\\n\\n\\nThe perfect beginning for long-term savings.\\n\\n\\n\\n\\n\\n\\n\\n\\n\\nApply Now\\n\\n\\n\\n\\n\\n\\n\\n\\n\\n\\n\\n\\n\\n\\n\\n\\n\\n\\n\\n\\n\\n\\n\\n\\n\\n\\n\\n\\n\\n\\n\\n\\n\\nI’m interested\\n\\n\\n\\n\\n\\n\\n\\n\\n\\n\\n\\n\\n\\n\\n\\n\\n\\n\\n\\n\\n\\n\\n\\nFeatures & Benefits\\n\\n\\n\\n\\nFeatures & Benefits\\n\\n\\nInterest Rate (wef 21/07/2023)\\n\\n\\nFees & Charges\\n\\n\\nTerms & Conditions\\n\\n\\n\\n\\n\\n\\n\\n\\n\\n\\n\\n\\n\\nHLB Fixed Deposit account is a good start for your long-term savings plan.\\n\\n\\n\\n\\n\\n\\n\\n\\n\\n\\n\\nLong Term\\n\\nA choice of terms from 1 - 60 months.\\n\\xa0\\n\\n\\n\\r\\n                            More details\\n\\r\\n                            Less details\\n\\n\\n\\n\\n\\n\\n\\n\\n\\n\\n\\n\\nInterest Payout\\n\\nReceive interest at maturity.'), Document(page_content=\"Deposits\\r\\n                    \\n3-in-1 Junior Account\\n\\r\\n                      Find Out More\\r\\n                    \\n\\n\\n\\n\\n\\n\\n\\n\\n\\n\\n\\n\\n\\n\\n\\n\\n\\n\\n\\n\\n\\n\\n\\n\\n\\n\\n\\n\\nOur Artificial Intelligence Advisor is ready to assist you\\n\\n\\n\\n\\n\\n\\nChat with us\\n\\n\\n\\n\\n\\n\\n\\n×\\n\\n\\n\\n\\n\\n\\n\\n\\n\\n×  \\nExternal Link Disclaimer\\n\\n\\nYou are leaving Hong Leong Bank's website as such our Privacy Notice shall cease. We wish to remind you on our terms on the use of links,\\xa0Disclaimer\\xa0and\\xa0Reservation of Intellectual Property Rights.\\n\\n\\n\\nContinue\\nCancel\")]\n",
      "  If you don't have enought information from the document, don't answer with your own knowledge.\n",
      "  You can refer to chat history also.\n",
      "  Your answer should be detailed but if you have to do calculation, don't show your work or equations, double check your answer, just provide the final value, and you don't need to show reference.\n",
      "  If the bank's name is not provided in the input, answer with the assumption that the question is about HLB.\n",
      "  If the bank's name is provided and it's not HLB, don't answer that question.\n",
      "  You don't need to answer if the input requires you to do something creative such as writing a song or making a joke.\n",
      "\u001b[0m\n",
      "\n",
      "\u001b[1m> Finished chain.\u001b[0m\n",
      "Tokens Used: 1740\n",
      "\tPrompt Tokens: 1726\n",
      "\tCompletion Tokens: 14\n",
      "Successful Requests: 1\n",
      "Total Cost (USD): $0.01768\n",
      "\n",
      "Retrieved Documents:\n",
      "0. page_content='Terms and Conditions apply.\\n\\n\\n\\n\\nMember of PIDM. Protected by PIDM up to RM250,000 for each depositor.\\n\\n\\n\\n\\n\\n\\n\\n\\n\\n\\n\\n\\n\\n\\n\\n\\n\\n\\n\\n\\n\\n\\n\\nTenure\\nInterest Rates (p.a.)\\n1 month\\n1.85%\\n2 months\\n2.25%\\n3 months\\n2.25%\\n4 months\\n2.30%\\n5 months\\n2.30%\\n6 months\\n2.30%\\n7 months\\n2.35%\\n8 months\\n2.35%\\n9 months\\n2.35%\\n10 months\\n2.35%\\n11 months\\n2.35%\\n12 months\\n2.35%\\n13 - 60 months\\n\\n2.35%\\n\\n\\n\\n\\n\\n\\n\\n\\n\\n\\n\\n\\n\\n\\n\\n\\n\\n\\nImportant notice\\nPlease click\\xa0HERE\\xa0for the exhaustive list of fees and charges.\\n\\n\\n\\n\\n\\n\\n\\n\\n\\n\\n\\n\\n\\n\\n\\n\\n\\nEnglish\\n\\n\\n\\n\\n\\n\\n\\n\\n\\n\\n\\ne-Fixed Deposit Terms and Conditions of Accounts\\n\\n\\n\\n\\n\\n\\n\\n\\nGeneral Term & Condition of Accounts\\n\\n\\n\\n\\n\\n\\n\\n\\n\\n\\n\\n\\n\\n\\n\\n\\n\\n\\n\\n\\n\\n\\nThese may interest you\\n\\n\\n\\n\\n\\nEdit here to enter\\r\\n          details for productdetail page promotion\\n\\n\\n\\n\\n\\n\\n\\n\\n\\r\\n                      Deposits\\r\\n                    \\nPay&Save Account (with Multi Currency Feature)\\n\\r\\n                      Find Out More'\n",
      "1. page_content='0.80\\n0.15\\n0.55\\n0.73\\n-\\n0.65\\n0.20\\n-\\n0.95\\n0.25\\n6\\xa0MONTHS\\n\\n0.85\\n0.15\\n0.65\\n0.75\\n-\\n0.75\\n0.25\\n-\\n1.10\\n0.30\\n7\\xa0MONTHS\\n\\n0.85\\n0.20\\n0.65\\n0.80\\n-\\n0.75\\n0.30\\n-\\n1.15\\n0.30\\n8\\xa0MONTHS\\n\\n0.85\\n0.20\\n0.65\\n0.85\\n-\\n0.75\\n0.35\\n-\\n1.15\\n0.35\\n9\\xa0MONTHS\\n\\n0.90\\n0.20\\n0.70\\n0.90\\n-\\n0.80\\n0.45\\n-\\n1.20\\n0.35\\n10\\xa0MONTHS\\n\\n0.90\\n0.25\\n0.75\\n1.00\\n-\\n0.85\\n0.45\\n-\\n1.25\\n0.35\\n11\\xa0MONTHS\\n\\n0.90\\n0.25\\n0.75\\n1.10\\n-\\n0.85\\n0.50\\n-\\n1.30\\n0.35\\n12\\xa0MONTHS\\n\\n0.95\\n0.25\\n0.80\\n1.15\\n-\\n0.90\\n0.60\\n-\\n1.40\\n0.35\\n\\n\\n\\n\\n\\n\\n\\n\\n\\n\\n\\n\\n\\n\\n\\n\\n\\n\\nImportant notice\\nPlease click\\xa0HERE\\xa0for the exhaustive list of fees and charges.\\n\\n\\n\\n\\n\\n\\n\\n\\n\\n\\n\\n\\n\\n\\n\\n\\n\\nEnglish\\n\\n\\n\\n\\n\\n\\n\\n\\n\\n\\n\\nTerms & Condition Foreign Currency Account\\n\\n\\n\\n\\n\\n\\n\\n\\nGeneral Terms & Conditions of Accounts\\n\\n\\n\\n\\n\\n\\n\\n\\n\\n\\n\\n\\n\\n\\n\\n\\n\\n\\n\\n\\n\\n\\n\\n\\n\\n\\n\\n\\n\\n\\n\\n\\n\\n\\nThese may interest you\\n\\n\\n\\n\\n\\nEdit here to enter\\r\\n          details for productdetail page promotion\\n\\n\\n\\n\\n\\n\\n\\n\\n\\r\\n                      Deposits\\r\\n                    \\nPay&Save Account (with Multi Currency Feature)\\n\\r\\n                      Find Out More'\n",
      "2. page_content='Apply Online\\n                            \\n\\nCredit Card\\nPersonal Loans\\nCurrent / Saving Account\\n\\n\\n\\n\\n                                Promotions\\n                            \\n\\nLatest Promotions\\n\\n\\n\\n\\n\\n\\n\\n\\n\\n\\n\\n\\n\\n\\n\\n\\n\\n\\n\\n\\n\\n\\n\\n\\n\\n\\n\\n\\n\\nFixed Deposit Account\\r\\n                                >\\n\\n\\r\\n                            Fixed Deposit\\r\\n                        \\n\\n\\n\\n\\n\\n\\n\\n\\n\\n\\n\\n\\n\\n\\n\\n\\n\\n\\n\\nThe perfect beginning for long-term savings.\\n\\n\\n\\n\\n\\n\\n\\n\\n\\nApply Now\\n\\n\\n\\n\\n\\n\\n\\n\\n\\n\\n\\n\\n\\n\\n\\n\\n\\n\\n\\n\\n\\n\\n\\n\\n\\n\\n\\n\\n\\n\\n\\n\\n\\nI’m interested\\n\\n\\n\\n\\n\\n\\n\\n\\n\\n\\n\\n\\n\\n\\n\\n\\n\\n\\n\\n\\n\\n\\n\\nFeatures & Benefits\\n\\n\\n\\n\\nFeatures & Benefits\\n\\n\\nInterest Rate (wef 21/07/2023)\\n\\n\\nFees & Charges\\n\\n\\nTerms & Conditions\\n\\n\\n\\n\\n\\n\\n\\n\\n\\n\\n\\n\\n\\nHLB Fixed Deposit account is a good start for your long-term savings plan.\\n\\n\\n\\n\\n\\n\\n\\n\\n\\n\\n\\nLong Term\\n\\nA choice of terms from 1 - 60 months.\\n\\xa0\\n\\n\\n\\r\\n                            More details\\n\\r\\n                            Less details\\n\\n\\n\\n\\n\\n\\n\\n\\n\\n\\n\\n\\nInterest Payout\\n\\nReceive interest at maturity.'\n",
      "3. page_content=\"Deposits\\r\\n                    \\n3-in-1 Junior Account\\n\\r\\n                      Find Out More\\r\\n                    \\n\\n\\n\\n\\n\\n\\n\\n\\n\\n\\n\\n\\n\\n\\n\\n\\n\\n\\n\\n\\n\\n\\n\\n\\n\\n\\n\\n\\nOur Artificial Intelligence Advisor is ready to assist you\\n\\n\\n\\n\\n\\n\\nChat with us\\n\\n\\n\\n\\n\\n\\n\\n×\\n\\n\\n\\n\\n\\n\\n\\n\\n\\n×  \\nExternal Link Disclaimer\\n\\n\\nYou are leaving Hong Leong Bank's website as such our Privacy Notice shall cease. We wish to remind you on our terms on the use of links,\\xa0Disclaimer\\xa0and\\xa0Reservation of Intellectual Property Rights.\\n\\n\\n\\nContinue\\nCancel\"\n",
      "\n",
      "Answer: The documents provided do not contain information on how to calculate compound interest.\n"
     ]
    }
   ],
   "source": [
    "ask_question(\"Do you know how to calculate compound interest? is it in the document?\")"
   ]
  },
  {
   "cell_type": "code",
   "execution_count": null,
   "metadata": {},
   "outputs": [],
   "source": [
    "ask_question(\"What is fixed deposit?\")"
   ]
  },
  {
   "cell_type": "code",
   "execution_count": null,
   "metadata": {},
   "outputs": [],
   "source": [
    "ask_question(\"How many types of fixed deposit are there?\")"
   ]
  },
  {
   "cell_type": "code",
   "execution_count": null,
   "metadata": {},
   "outputs": [],
   "source": [
    "ask_question(\"tell me about the 4th one\")"
   ]
  },
  {
   "cell_type": "code",
   "execution_count": null,
   "metadata": {},
   "outputs": [],
   "source": [
    "ask_question(\"What are the pros and cons of fixed deposit?\")"
   ]
  },
  {
   "cell_type": "code",
   "execution_count": null,
   "metadata": {},
   "outputs": [],
   "source": [
    "ask_question(\"Who is jay z?\")"
   ]
  },
  {
   "cell_type": "code",
   "execution_count": null,
   "metadata": {},
   "outputs": [],
   "source": [
    "ask_question(\"Are you sure you dont know Jay Z? He is a very popular hip hop artist?\")"
   ]
  },
  {
   "cell_type": "code",
   "execution_count": 42,
   "metadata": {},
   "outputs": [
    {
     "name": "stdout",
     "output_type": "stream",
     "text": [
      "\n",
      "\n",
      "\u001b[1m> Entering new LLMChain chain...\u001b[0m\n",
      "Prompt after formatting:\n",
      "\u001b[32;1m\u001b[1;3m\n",
      "  You are a helpful assistant who should reply to inputs related only to the HongLeong Bank aka HLB.\n",
      "\n",
      "  Chat History:\n",
      "  Human: Lets say I want to invest RM 5000 in Fixed Deposit for 9 months. Please calculate total withdrawal amount at the end of the term.\n",
      "AI: Based on the provided documents, the interest rate for a Fixed Deposit (FD) for a tenure of 7-11 months is 2.35% per annum. For an investment of RM 5000 for 9 months, the total withdrawal amount at the end of the term would be RM 5,088.13.\n",
      "\n",
      "  Reply to the following input: How many types of fixed deposit Citibank provide?\n",
      "  By only referring the follwing document: [Document(page_content=\"Junior Fixed Deposit\\n\\n\\n\\n\\n\\n\\nMore Details\\n\\n\\n\\nAn attractive interest FD account for children below the age of 18\\n\\n\\n\\n\\n\\n\\n\\n\\n\\n\\nForeign Currency Fixed Deposit\\n\\n\\n\\n\\n\\n\\nMore Details\\n\\n\\n\\nA convenient way to invest in foreign currency\\n\\n\\n\\n\\n\\n\\n\\n\\n\\n\\n\\n\\n\\n\\n\\n\\n\\n\\n\\n\\n\\n\\n\\n\\n\\n\\n\\n\\n\\n\\n\\n\\n\\n\\n\\n\\nCredit Card Name\\n\\n\\n\\n\\n\\n\\n\\n\\n\\n\\n\\n\\n\\n\\n\\n\\n\\n\\n\\n\\nOur Artificial Intelligence Advisor is ready to assist you\\n\\n\\n\\n\\n\\n\\nChat with us\\n\\n\\n\\n\\n\\n\\n\\n×\\n\\n\\n\\n\\n\\n\\n\\n\\n\\n×  \\nExternal Link Disclaimer\\n\\n\\nYou are leaving Hong Leong Bank's website as such our Privacy Notice shall cease. We wish to remind you on our terms on the use of links,\\xa0Disclaimer\\xa0and\\xa0Reservation of Intellectual Property Rights.\\n\\n\\n\\nContinue\\nCancel\"), Document(page_content='Apply Online\\n                            \\n\\nCredit Card\\nPersonal Loans\\nCurrent / Saving Account\\n\\n\\n\\n\\n                                Promotions\\n                            \\n\\nLatest Promotions\\n\\n\\n\\n\\n\\n\\n\\n\\n\\n\\n\\n\\n\\n\\n\\n\\n\\n\\n\\n\\n\\n\\n\\n\\n\\n\\n\\n\\nPersonal Banking\\r\\n                                >\\n\\n\\r\\n                            Fixed Deposit\\r\\n                        \\n\\n\\n\\n\\n\\n\\n\\n\\n\\n\\n\\n\\n\\n\\n\\nAll Products\\n\\n\\n\\n\\n\\t\\t\\t\\t\\t\\t\\tAll Products \\n\\t\\t\\t\\t\\t\\t\\n\\n\\t\\t\\t\\t\\t\\t\\t\\tFixed Deposit Account\\n\\t\\t\\t\\t\\t\\t\\t\\n\\n\\n\\n\\n\\n\\n\\n\\n\\n\\n\\n\\nFixed Deposit\\n\\n\\n\\n\\n\\n\\nMore Details\\n\\n\\n\\nEarn attractive interest with fixed tenures of up to 60 months\\n\\n\\n\\n\\n\\n\\n\\n\\n\\n\\ne-Fixed Deposit\\n\\n\\n\\n\\n\\n\\nMore Details\\n\\n\\n\\nPlace your e-Fixed Deposit online via HLB Connect\\n\\n\\n\\n\\n\\n\\n\\n\\n\\n\\n\\n\\nFlexi Fixed Deposit\\n\\n\\n\\n\\n\\n\\nMore Details\\n\\n\\n\\nEnjoy the flexibility of making early partial withdrawals\\n\\n\\n\\n\\n\\n\\n\\n\\n\\n\\nSenior Savers Flexi Fixed Deposit\\n\\n\\n\\n\\n\\n\\nMore Details\\n\\n\\n\\nAn attractive interest FD account for individuals aged 50 years and above\\n\\n\\n\\n\\n\\n\\n\\n\\n\\n\\n\\n\\nJunior Fixed Deposit\\n\\n\\n\\n\\n\\n\\nMore Details'), Document(page_content='Apply Online\\n                            \\n\\nCredit Card\\nPersonal Loans\\nCurrent / Saving Account\\n\\n\\n\\n\\n                                Promotions\\n                            \\n\\nLatest Promotions\\n\\n\\n\\n\\n\\n\\n\\n\\n\\n\\n\\n\\n\\n\\n\\n\\n\\n\\n\\n\\n\\n\\n\\n\\n\\n\\n\\n\\n\\nFixed Deposit Account\\r\\n                                >\\n\\n\\r\\n                            Flexi FD\\r\\n                        \\n\\n\\n\\n\\n\\n\\n\\n\\n\\n\\n\\n\\n\\n\\n\\n\\n\\n\\n\\nA truly flexible fixed deposit account\\n\\n\\n\\n\\n\\n\\n\\n\\n\\nApply Now\\n\\n\\n\\n\\n\\n\\n\\n\\n\\n\\n\\n\\n\\n\\n\\n\\n\\n\\n\\n\\n\\n\\n\\n\\n\\n\\n\\n\\n\\n\\n\\n\\n\\nI’m interested\\n\\n\\n\\n\\n\\n\\n\\n\\n\\n\\n\\n\\n\\n\\n\\n\\n\\n\\n\\n\\n\\n\\n\\nFeatures & Benefits\\n\\n\\n\\n\\nFeatures & Benefits\\n\\n\\nOther Flexible Feature\\n\\n\\nInterest Rate (wef 21/07/2023)\\n\\n\\nFees & Charges\\n\\n\\nTerms & Conditions\\n\\n\\n\\n\\n\\n\\n\\n\\n\\n\\n\\n\\n\\nHLB Flexi Fixed Deposit rewards you with attractive interest and auto-sweep facility from Flexi Fixed Deposit to Flexi One Account or vice versa.\\n\\n\\n\\n\\n\\n\\n\\n\\n\\n\\n\\nEarn attractive FD interest for 12-month tenure'), Document(page_content='Apply Online\\n                            \\n\\nCredit Card\\nPersonal Loans\\nCurrent / Saving Account\\n\\n\\n\\n\\n                                Promotions\\n                            \\n\\nLatest Promotions\\n\\n\\n\\n\\n\\n\\n\\n\\n\\n\\n\\n\\n\\n\\n\\n\\n\\n\\n\\n\\n\\n\\n\\n\\n\\n\\n\\n\\n\\nFixed Deposit Account\\r\\n                                >\\n\\n\\r\\n                            Fixed Deposit\\r\\n                        \\n\\n\\n\\n\\n\\n\\n\\n\\n\\n\\n\\n\\n\\n\\n\\n\\n\\n\\n\\nThe perfect beginning for long-term savings.\\n\\n\\n\\n\\n\\n\\n\\n\\n\\nApply Now\\n\\n\\n\\n\\n\\n\\n\\n\\n\\n\\n\\n\\n\\n\\n\\n\\n\\n\\n\\n\\n\\n\\n\\n\\n\\n\\n\\n\\n\\n\\n\\n\\n\\nI’m interested\\n\\n\\n\\n\\n\\n\\n\\n\\n\\n\\n\\n\\n\\n\\n\\n\\n\\n\\n\\n\\n\\n\\n\\nFeatures & Benefits\\n\\n\\n\\n\\nFeatures & Benefits\\n\\n\\nInterest Rate (wef 21/07/2023)\\n\\n\\nFees & Charges\\n\\n\\nTerms & Conditions\\n\\n\\n\\n\\n\\n\\n\\n\\n\\n\\n\\n\\n\\nHLB Fixed Deposit account is a good start for your long-term savings plan.\\n\\n\\n\\n\\n\\n\\n\\n\\n\\n\\n\\nLong Term\\n\\nA choice of terms from 1 - 60 months.\\n\\xa0\\n\\n\\n\\r\\n                            More details\\n\\r\\n                            Less details\\n\\n\\n\\n\\n\\n\\n\\n\\n\\n\\n\\n\\nInterest Payout\\n\\nReceive interest at maturity.')]\n",
      "  If you don't have enought information from the document, don't answer with your own knowledge.\n",
      "  You can refer to chat history also.\n",
      "  Your answer should be detailed but if you have to do calculation, don't show your work or equations, double check your answer, just provide the final value, and you don't need to show reference.\n",
      "  If the bank's name is not provided in the input, answer with the assumption that the question is about HLB.\n",
      "  If the bank's name is provided and it's not HLB, don't answer that question.\n",
      "  You don't need to answer if the input requires you to do something creative such as writing a song or making a joke.\n",
      "\u001b[0m\n",
      "\n",
      "\u001b[1m> Finished chain.\u001b[0m\n",
      "Tokens Used: 1533\n",
      "\tPrompt Tokens: 1498\n",
      "\tCompletion Tokens: 35\n",
      "Successful Requests: 1\n",
      "Total Cost (USD): $0.01603\n",
      "\n",
      "Retrieved Documents:\n",
      "0. page_content=\"Junior Fixed Deposit\\n\\n\\n\\n\\n\\n\\nMore Details\\n\\n\\n\\nAn attractive interest FD account for children below the age of 18\\n\\n\\n\\n\\n\\n\\n\\n\\n\\n\\nForeign Currency Fixed Deposit\\n\\n\\n\\n\\n\\n\\nMore Details\\n\\n\\n\\nA convenient way to invest in foreign currency\\n\\n\\n\\n\\n\\n\\n\\n\\n\\n\\n\\n\\n\\n\\n\\n\\n\\n\\n\\n\\n\\n\\n\\n\\n\\n\\n\\n\\n\\n\\n\\n\\n\\n\\n\\n\\nCredit Card Name\\n\\n\\n\\n\\n\\n\\n\\n\\n\\n\\n\\n\\n\\n\\n\\n\\n\\n\\n\\n\\nOur Artificial Intelligence Advisor is ready to assist you\\n\\n\\n\\n\\n\\n\\nChat with us\\n\\n\\n\\n\\n\\n\\n\\n×\\n\\n\\n\\n\\n\\n\\n\\n\\n\\n×  \\nExternal Link Disclaimer\\n\\n\\nYou are leaving Hong Leong Bank's website as such our Privacy Notice shall cease. We wish to remind you on our terms on the use of links,\\xa0Disclaimer\\xa0and\\xa0Reservation of Intellectual Property Rights.\\n\\n\\n\\nContinue\\nCancel\"\n",
      "1. page_content='Apply Online\\n                            \\n\\nCredit Card\\nPersonal Loans\\nCurrent / Saving Account\\n\\n\\n\\n\\n                                Promotions\\n                            \\n\\nLatest Promotions\\n\\n\\n\\n\\n\\n\\n\\n\\n\\n\\n\\n\\n\\n\\n\\n\\n\\n\\n\\n\\n\\n\\n\\n\\n\\n\\n\\n\\nPersonal Banking\\r\\n                                >\\n\\n\\r\\n                            Fixed Deposit\\r\\n                        \\n\\n\\n\\n\\n\\n\\n\\n\\n\\n\\n\\n\\n\\n\\n\\nAll Products\\n\\n\\n\\n\\n\\t\\t\\t\\t\\t\\t\\tAll Products \\n\\t\\t\\t\\t\\t\\t\\n\\n\\t\\t\\t\\t\\t\\t\\t\\tFixed Deposit Account\\n\\t\\t\\t\\t\\t\\t\\t\\n\\n\\n\\n\\n\\n\\n\\n\\n\\n\\n\\n\\nFixed Deposit\\n\\n\\n\\n\\n\\n\\nMore Details\\n\\n\\n\\nEarn attractive interest with fixed tenures of up to 60 months\\n\\n\\n\\n\\n\\n\\n\\n\\n\\n\\ne-Fixed Deposit\\n\\n\\n\\n\\n\\n\\nMore Details\\n\\n\\n\\nPlace your e-Fixed Deposit online via HLB Connect\\n\\n\\n\\n\\n\\n\\n\\n\\n\\n\\n\\n\\nFlexi Fixed Deposit\\n\\n\\n\\n\\n\\n\\nMore Details\\n\\n\\n\\nEnjoy the flexibility of making early partial withdrawals\\n\\n\\n\\n\\n\\n\\n\\n\\n\\n\\nSenior Savers Flexi Fixed Deposit\\n\\n\\n\\n\\n\\n\\nMore Details\\n\\n\\n\\nAn attractive interest FD account for individuals aged 50 years and above\\n\\n\\n\\n\\n\\n\\n\\n\\n\\n\\n\\n\\nJunior Fixed Deposit\\n\\n\\n\\n\\n\\n\\nMore Details'\n",
      "2. page_content='Apply Online\\n                            \\n\\nCredit Card\\nPersonal Loans\\nCurrent / Saving Account\\n\\n\\n\\n\\n                                Promotions\\n                            \\n\\nLatest Promotions\\n\\n\\n\\n\\n\\n\\n\\n\\n\\n\\n\\n\\n\\n\\n\\n\\n\\n\\n\\n\\n\\n\\n\\n\\n\\n\\n\\n\\n\\nFixed Deposit Account\\r\\n                                >\\n\\n\\r\\n                            Flexi FD\\r\\n                        \\n\\n\\n\\n\\n\\n\\n\\n\\n\\n\\n\\n\\n\\n\\n\\n\\n\\n\\n\\nA truly flexible fixed deposit account\\n\\n\\n\\n\\n\\n\\n\\n\\n\\nApply Now\\n\\n\\n\\n\\n\\n\\n\\n\\n\\n\\n\\n\\n\\n\\n\\n\\n\\n\\n\\n\\n\\n\\n\\n\\n\\n\\n\\n\\n\\n\\n\\n\\n\\nI’m interested\\n\\n\\n\\n\\n\\n\\n\\n\\n\\n\\n\\n\\n\\n\\n\\n\\n\\n\\n\\n\\n\\n\\n\\nFeatures & Benefits\\n\\n\\n\\n\\nFeatures & Benefits\\n\\n\\nOther Flexible Feature\\n\\n\\nInterest Rate (wef 21/07/2023)\\n\\n\\nFees & Charges\\n\\n\\nTerms & Conditions\\n\\n\\n\\n\\n\\n\\n\\n\\n\\n\\n\\n\\n\\nHLB Flexi Fixed Deposit rewards you with attractive interest and auto-sweep facility from Flexi Fixed Deposit to Flexi One Account or vice versa.\\n\\n\\n\\n\\n\\n\\n\\n\\n\\n\\n\\nEarn attractive FD interest for 12-month tenure'\n",
      "3. page_content='Apply Online\\n                            \\n\\nCredit Card\\nPersonal Loans\\nCurrent / Saving Account\\n\\n\\n\\n\\n                                Promotions\\n                            \\n\\nLatest Promotions\\n\\n\\n\\n\\n\\n\\n\\n\\n\\n\\n\\n\\n\\n\\n\\n\\n\\n\\n\\n\\n\\n\\n\\n\\n\\n\\n\\n\\n\\nFixed Deposit Account\\r\\n                                >\\n\\n\\r\\n                            Fixed Deposit\\r\\n                        \\n\\n\\n\\n\\n\\n\\n\\n\\n\\n\\n\\n\\n\\n\\n\\n\\n\\n\\n\\nThe perfect beginning for long-term savings.\\n\\n\\n\\n\\n\\n\\n\\n\\n\\nApply Now\\n\\n\\n\\n\\n\\n\\n\\n\\n\\n\\n\\n\\n\\n\\n\\n\\n\\n\\n\\n\\n\\n\\n\\n\\n\\n\\n\\n\\n\\n\\n\\n\\n\\nI’m interested\\n\\n\\n\\n\\n\\n\\n\\n\\n\\n\\n\\n\\n\\n\\n\\n\\n\\n\\n\\n\\n\\n\\n\\nFeatures & Benefits\\n\\n\\n\\n\\nFeatures & Benefits\\n\\n\\nInterest Rate (wef 21/07/2023)\\n\\n\\nFees & Charges\\n\\n\\nTerms & Conditions\\n\\n\\n\\n\\n\\n\\n\\n\\n\\n\\n\\n\\n\\nHLB Fixed Deposit account is a good start for your long-term savings plan.\\n\\n\\n\\n\\n\\n\\n\\n\\n\\n\\n\\nLong Term\\n\\nA choice of terms from 1 - 60 months.\\n\\xa0\\n\\n\\n\\r\\n                            More details\\n\\r\\n                            Less details\\n\\n\\n\\n\\n\\n\\n\\n\\n\\n\\n\\n\\nInterest Payout\\n\\nReceive interest at maturity.'\n",
      "\n",
      "Answer: I'm sorry, but I cannot provide information on Citibank's fixed deposit products as the documents provided only contain information related to HongLeong Bank's fixed deposit accounts.\n"
     ]
    }
   ],
   "source": [
    "ask_question(\"How many types of fixed deposit Citibank provide?\")"
   ]
  },
  {
   "cell_type": "code",
   "execution_count": null,
   "metadata": {},
   "outputs": [],
   "source": [
    "ask_question(\"What are the interest rates for Fixed Deposit?\")"
   ]
  },
  {
   "cell_type": "code",
   "execution_count": null,
   "metadata": {},
   "outputs": [],
   "source": [
    "ask_question(\"Can you find out by browsing the web?\")"
   ]
  },
  {
   "cell_type": "code",
   "execution_count": 44,
   "metadata": {},
   "outputs": [
    {
     "name": "stdout",
     "output_type": "stream",
     "text": [
      "\n",
      "\n",
      "\u001b[1m> Entering new LLMChain chain...\u001b[0m\n",
      "Prompt after formatting:\n",
      "\u001b[32;1m\u001b[1;3m\n",
      "  You are a helpful assistant who should reply to inputs related only to the HongLeong Bank aka HLB.\n",
      "\n",
      "  Chat History:\n",
      "  Human: Lets say I want to invest RM 5000 in Fixed Deposit for 9 months. Please calculate total withdrawal amount at the end of the term.\n",
      "AI: Based on the provided documents, the interest rate for a Fixed Deposit (FD) for a tenure of 7-11 months is 2.35% per annum. For an investment of RM 5000 for 9 months, the total withdrawal amount at the end of the term would be RM 5,088.13.\n",
      "Human: How many types of fixed deposit Citibank provide?\n",
      "AI: I'm sorry, but I cannot provide information on Citibank's fixed deposit products as the documents provided only contain information related to HongLeong Bank's fixed deposit accounts.\n",
      "Human: Do you know how to calculate compound interest? is it in the document?\n",
      "AI: The documents provided do not contain information on how to calculate compound interest.\n",
      "\n",
      "  Reply to the following input: Lets say I want to invest RM 5000 in Fixed Deposit for 36 months and the interest rate is 5%. Please calculate total withdrawal amount at the end of the term. Take note the interest rate is compund interest?\n",
      "  By only referring the follwing document: [Document(page_content='Interest Payout\\n\\nReceive interest at maturity.\\n\\xa0\\n\\n\\n\\r\\n                            More details\\n\\r\\n                            Less details\\n\\n\\n\\n\\n\\n\\n\\n\\n\\n\\n\\n\\n\\n\\n\\n\\nFlexibility of early fixed deposit partial withdrawal without losing interest on remaining balance\\n\\nPartial withdrawal is in multiples of RM1,000. Outstanding balances will be\\xa0shown on the monthly e-statement.\\nEffective 1 January 2019, no interest shall be payable on partially withdrawn amounts and premature withdrawals of FD.\\n\\xa0\\n\\n\\n\\r\\n                            More details\\n\\r\\n                            Less details\\n\\n\\n\\n\\n\\n\\n\\n\\n\\n\\n\\n\\nConvenient Withdrawal\\n\\nYou can withdraw from any branch nationwide.\\xa0\\n\\n\\n\\r\\n                            More details\\n\\r\\n                            Less details\\n\\n\\n\\n\\n\\n\\n\\n\\n\\n\\n\\n\\n\\n\\n\\n\\nEligibility\\n\\n\\nMinimum deposit of RM5,000 for 1 month placement and RM500 for 2 months and above.\\nApplicable for individual and non-individual customers.\\n\\nFor Malaysian aged 18 years old & above.'), Document(page_content='Earn attractive\\xa0interest for long-term Junior FD tenures\\xa0(12 months and above).\\nMinimum RM1,000 FD placement only.\\nInterest calculated daily and paid at maturity into Junior Savings Account.\\n\\nFlexibility to make early partial withdrawals from your FD and still earn FD interest on remaining balance (Partial withdrawal must be in multiples of RM3,000).\\nQuarterly statement on account summary, \\xa0balances and activities.\\n\\nOption to enrol for standing instruction from Junior Savings Account to Junior FD in multiples of RM1,000 to a maximum of RM5,000.\\n\\nPartial withdrawal available at any branch.\\nEffective 1 January 2019, no interest shall be payable on partially withdrawn amounts and premature withdrawals of Junior Fixed Deposit.\\n\\n\\n\\n\\n\\n\\n\\n\\n\\n\\n\\n\\nEligibility\\n\\n\\nChildren below 18 years old.\\nApplication must be submitted by parents/legal guardian.\\n\\n\\xa0\\n\\n\\n\\r\\n                            More details\\n\\r\\n                            Less details\\n\\n\\n\\n\\n\\n\\n\\n\\n\\n\\n\\n\\n\\n\\n\\n\\n\\n\\r\\nTerms and Conditions apply.'), Document(page_content='More details\\n\\r\\n                            Less details\\n\\n\\n\\n\\n\\n\\n\\n\\n\\n\\n\\n\\nMake an early partial withdrawal and still earn an attractive FD interest on your remaining balance\\n\\nMake an early partial withdrawal anytime and continue to earn an attractive\\xa0FD interest on your remaining balance. (Partial withdrawal is in multiples of RM3,000.\\n\\xa0\\n\\n\\n\\r\\n                            More details\\n\\r\\n                            Less details\\n\\n\\n\\n\\n\\n\\n\\n\\n\\n\\n\\n\\n\\n\\n\\n\\nNo Overdraft Facility is given\\n\\n\\n\\n\\n\\n\\n\\n\\n\\n\\n\\n\\n\\n\\n\\n\\n\\r\\nTerms and Conditions apply.\\n\\n\\n\\n\\nMember of PIDM. Protected by PIDM up to RM250,000 for each depositor.'), Document(page_content='Member of PIDM. Protected by PIDM up to RM250,000 for each depositor.\\n\\n\\n\\n\\n\\n\\n\\n\\n\\n\\n\\n\\n\\n\\n\\n\\n\\n\\n\\n\\n\\n\\nComes with a Flexi One Account so you can have the convenience of chequing and savings at high interest rates.\\nAuto-sweeping from Flexi FD to Flexi One Account when there are insufficient funds in your Flexi One Account for in-clearing cheques and standing instruction payments. (Auto-sweep is in multiples of RM3,000.\\xa0A service charge of RM5 is imposed for each auto-sweep)\\n\\xa0Flexibility to make withdrawals at any branch nationwide.\\nConsolidated monthly statements. No FD receipt issued.\\nAccess via ATM, Internet Banking and Phone Banking.\\n\\n\\n\\n\\n\\n\\n\\n\\n\\n\\n\\n\\n\\n\\n\\n\\n\\n\\n\\n\\nTenure\\n\\nInterest Rate (p.a.)\\n\\n12 months\\n\\n2.50%\\n\\n\\n\\n\\n\\n\\n\\n\\n\\n\\n\\n\\n\\n\\n\\n\\n\\n\\n\\nImportant notice\\n\\nPlease click\\xa0HERE\\xa0for the exhaustive list of fees and charges.\\n\\n\\n\\n\\n\\n\\n\\n\\n\\n\\n\\n\\n\\n\\n\\n\\n\\nEnglish\\n\\n\\n\\n\\n\\n\\n\\n\\n\\n\\n\\nFlexi FD Terms and Condition\\n\\n\\n\\n\\n\\n\\n\\n\\nGeneral Term & Condition of Accounts\\n\\n\\n\\n\\n\\n\\n\\n\\n\\n\\n\\n\\n\\n\\n\\n\\n\\n\\n\\n\\n\\n\\nThese may interest you')]\n",
      "  If you don't have enought information from the document, don't answer with your own knowledge.\n",
      "  You can refer to chat history also.\n",
      "  Your answer should be detailed but if you have to do calculation, don't show your work or equations, double check your answer, just provide the final value, and you don't need to show reference.\n",
      "  If the bank's name is not provided in the input, answer with the assumption that the question is about HLB.\n",
      "  If the bank's name is provided and it's not HLB, don't answer that question.\n",
      "  You don't need to answer if the input requires you to do something creative such as writing a song or making a joke.\n",
      "\u001b[0m\n",
      "\n",
      "\u001b[1m> Finished chain.\u001b[0m\n",
      "Tokens Used: 1472\n",
      "\tPrompt Tokens: 1412\n",
      "\tCompletion Tokens: 60\n",
      "Successful Requests: 1\n",
      "Total Cost (USD): $0.01592\n",
      "\n",
      "Retrieved Documents:\n",
      "0. page_content='Interest Payout\\n\\nReceive interest at maturity.\\n\\xa0\\n\\n\\n\\r\\n                            More details\\n\\r\\n                            Less details\\n\\n\\n\\n\\n\\n\\n\\n\\n\\n\\n\\n\\n\\n\\n\\n\\nFlexibility of early fixed deposit partial withdrawal without losing interest on remaining balance\\n\\nPartial withdrawal is in multiples of RM1,000. Outstanding balances will be\\xa0shown on the monthly e-statement.\\nEffective 1 January 2019, no interest shall be payable on partially withdrawn amounts and premature withdrawals of FD.\\n\\xa0\\n\\n\\n\\r\\n                            More details\\n\\r\\n                            Less details\\n\\n\\n\\n\\n\\n\\n\\n\\n\\n\\n\\n\\nConvenient Withdrawal\\n\\nYou can withdraw from any branch nationwide.\\xa0\\n\\n\\n\\r\\n                            More details\\n\\r\\n                            Less details\\n\\n\\n\\n\\n\\n\\n\\n\\n\\n\\n\\n\\n\\n\\n\\n\\nEligibility\\n\\n\\nMinimum deposit of RM5,000 for 1 month placement and RM500 for 2 months and above.\\nApplicable for individual and non-individual customers.\\n\\nFor Malaysian aged 18 years old & above.'\n",
      "1. page_content='Earn attractive\\xa0interest for long-term Junior FD tenures\\xa0(12 months and above).\\nMinimum RM1,000 FD placement only.\\nInterest calculated daily and paid at maturity into Junior Savings Account.\\n\\nFlexibility to make early partial withdrawals from your FD and still earn FD interest on remaining balance (Partial withdrawal must be in multiples of RM3,000).\\nQuarterly statement on account summary, \\xa0balances and activities.\\n\\nOption to enrol for standing instruction from Junior Savings Account to Junior FD in multiples of RM1,000 to a maximum of RM5,000.\\n\\nPartial withdrawal available at any branch.\\nEffective 1 January 2019, no interest shall be payable on partially withdrawn amounts and premature withdrawals of Junior Fixed Deposit.\\n\\n\\n\\n\\n\\n\\n\\n\\n\\n\\n\\n\\nEligibility\\n\\n\\nChildren below 18 years old.\\nApplication must be submitted by parents/legal guardian.\\n\\n\\xa0\\n\\n\\n\\r\\n                            More details\\n\\r\\n                            Less details\\n\\n\\n\\n\\n\\n\\n\\n\\n\\n\\n\\n\\n\\n\\n\\n\\n\\n\\r\\nTerms and Conditions apply.'\n",
      "2. page_content='More details\\n\\r\\n                            Less details\\n\\n\\n\\n\\n\\n\\n\\n\\n\\n\\n\\n\\nMake an early partial withdrawal and still earn an attractive FD interest on your remaining balance\\n\\nMake an early partial withdrawal anytime and continue to earn an attractive\\xa0FD interest on your remaining balance. (Partial withdrawal is in multiples of RM3,000.\\n\\xa0\\n\\n\\n\\r\\n                            More details\\n\\r\\n                            Less details\\n\\n\\n\\n\\n\\n\\n\\n\\n\\n\\n\\n\\n\\n\\n\\n\\nNo Overdraft Facility is given\\n\\n\\n\\n\\n\\n\\n\\n\\n\\n\\n\\n\\n\\n\\n\\n\\n\\r\\nTerms and Conditions apply.\\n\\n\\n\\n\\nMember of PIDM. Protected by PIDM up to RM250,000 for each depositor.'\n",
      "3. page_content='Member of PIDM. Protected by PIDM up to RM250,000 for each depositor.\\n\\n\\n\\n\\n\\n\\n\\n\\n\\n\\n\\n\\n\\n\\n\\n\\n\\n\\n\\n\\n\\n\\nComes with a Flexi One Account so you can have the convenience of chequing and savings at high interest rates.\\nAuto-sweeping from Flexi FD to Flexi One Account when there are insufficient funds in your Flexi One Account for in-clearing cheques and standing instruction payments. (Auto-sweep is in multiples of RM3,000.\\xa0A service charge of RM5 is imposed for each auto-sweep)\\n\\xa0Flexibility to make withdrawals at any branch nationwide.\\nConsolidated monthly statements. No FD receipt issued.\\nAccess via ATM, Internet Banking and Phone Banking.\\n\\n\\n\\n\\n\\n\\n\\n\\n\\n\\n\\n\\n\\n\\n\\n\\n\\n\\n\\n\\nTenure\\n\\nInterest Rate (p.a.)\\n\\n12 months\\n\\n2.50%\\n\\n\\n\\n\\n\\n\\n\\n\\n\\n\\n\\n\\n\\n\\n\\n\\n\\n\\n\\nImportant notice\\n\\nPlease click\\xa0HERE\\xa0for the exhaustive list of fees and charges.\\n\\n\\n\\n\\n\\n\\n\\n\\n\\n\\n\\n\\n\\n\\n\\n\\n\\nEnglish\\n\\n\\n\\n\\n\\n\\n\\n\\n\\n\\n\\nFlexi FD Terms and Condition\\n\\n\\n\\n\\n\\n\\n\\n\\nGeneral Term & Condition of Accounts\\n\\n\\n\\n\\n\\n\\n\\n\\n\\n\\n\\n\\n\\n\\n\\n\\n\\n\\n\\n\\n\\n\\nThese may interest you'\n",
      "\n",
      "Answer: Based on the information provided in the documents, there is no specific mention of the compound interest rate for a Fixed Deposit of RM 5000 for 36 months. Therefore, I cannot calculate the total withdrawal amount at the end of the term with the given interest rate of 5% compound interest.\n"
     ]
    }
   ],
   "source": [
    "ask_question(\"Lets say I want to invest RM 5000 in Fixed Deposit for 36 months and the interest rate is 5%. Please calculate total withdrawal amount at the end of the term. Take note the interest rate is compund interest?\")"
   ]
  },
  {
   "cell_type": "code",
   "execution_count": 41,
   "metadata": {},
   "outputs": [
    {
     "name": "stdout",
     "output_type": "stream",
     "text": [
      "\n",
      "\n",
      "\u001b[1m> Entering new LLMChain chain...\u001b[0m\n",
      "Prompt after formatting:\n",
      "\u001b[32;1m\u001b[1;3m\n",
      "  You are a helpful assistant who should reply to inputs related only to the HongLeong Bank aka HLB.\n",
      "\n",
      "  Chat History:\n",
      "  \n",
      "\n",
      "  Reply to the following input: Lets say I want to invest RM 5000 in Fixed Deposit for 9 months. Please calculate total withdrawal amount at the end of the term.\n",
      "  By only referring the follwing document: [Document(page_content='Interest Payout\\n\\nReceive interest at maturity.\\n\\xa0\\n\\n\\n\\r\\n                            More details\\n\\r\\n                            Less details\\n\\n\\n\\n\\n\\n\\n\\n\\n\\n\\n\\n\\n\\n\\n\\n\\nFlexibility of early fixed deposit partial withdrawal without losing interest on remaining balance\\n\\nPartial withdrawal is in multiples of RM1,000. Outstanding balances will be\\xa0shown on the monthly e-statement.\\nEffective 1 January 2019, no interest shall be payable on partially withdrawn amounts and premature withdrawals of FD.\\n\\xa0\\n\\n\\n\\r\\n                            More details\\n\\r\\n                            Less details\\n\\n\\n\\n\\n\\n\\n\\n\\n\\n\\n\\n\\nConvenient Withdrawal\\n\\nYou can withdraw from any branch nationwide.\\xa0\\n\\n\\n\\r\\n                            More details\\n\\r\\n                            Less details\\n\\n\\n\\n\\n\\n\\n\\n\\n\\n\\n\\n\\n\\n\\n\\n\\nEligibility\\n\\n\\nMinimum deposit of RM5,000 for 1 month placement and RM500 for 2 months and above.\\nApplicable for individual and non-individual customers.\\n\\nFor Malaysian aged 18 years old & above.'), Document(page_content='More details\\n\\r\\n                            Less details\\n\\n\\n\\n\\n\\n\\n\\n\\n\\n\\n\\n\\nMake an early partial withdrawal and still earn an attractive FD interest on your remaining balance\\n\\nMake an early partial withdrawal anytime and continue to earn an attractive\\xa0FD interest on your remaining balance. (Partial withdrawal is in multiples of RM3,000.\\n\\xa0\\n\\n\\n\\r\\n                            More details\\n\\r\\n                            Less details\\n\\n\\n\\n\\n\\n\\n\\n\\n\\n\\n\\n\\n\\n\\n\\n\\nNo Overdraft Facility is given\\n\\n\\n\\n\\n\\n\\n\\n\\n\\n\\n\\n\\n\\n\\n\\n\\n\\r\\nTerms and Conditions apply.\\n\\n\\n\\n\\nMember of PIDM. Protected by PIDM up to RM250,000 for each depositor.'), Document(page_content='Earn attractive\\xa0interest for long-term Junior FD tenures\\xa0(12 months and above).\\nMinimum RM1,000 FD placement only.\\nInterest calculated daily and paid at maturity into Junior Savings Account.\\n\\nFlexibility to make early partial withdrawals from your FD and still earn FD interest on remaining balance (Partial withdrawal must be in multiples of RM3,000).\\nQuarterly statement on account summary, \\xa0balances and activities.\\n\\nOption to enrol for standing instruction from Junior Savings Account to Junior FD in multiples of RM1,000 to a maximum of RM5,000.\\n\\nPartial withdrawal available at any branch.\\nEffective 1 January 2019, no interest shall be payable on partially withdrawn amounts and premature withdrawals of Junior Fixed Deposit.\\n\\n\\n\\n\\n\\n\\n\\n\\n\\n\\n\\n\\nEligibility\\n\\n\\nChildren below 18 years old.\\nApplication must be submitted by parents/legal guardian.\\n\\n\\xa0\\n\\n\\n\\r\\n                            More details\\n\\r\\n                            Less details\\n\\n\\n\\n\\n\\n\\n\\n\\n\\n\\n\\n\\n\\n\\n\\n\\n\\n\\r\\nTerms and Conditions apply.'), Document(page_content='Convenient withdrawal\\n\\nYou can withdraw from any branch nationwide.\\n\\n\\n\\r\\n                            More details\\n\\r\\n                            Less details\\n\\n\\n\\n\\n\\n\\n\\n\\n\\n\\n\\n\\n\\n\\n\\n\\nEligibility\\n\\n\\nFor Malaysian aged 50 years old and above, single or joint names.\\nMinimum RM10,000 to open the Senior Savers Flexi FD.\\n\\n\\xa0\\n\\n\\n\\r\\n                            More details\\n\\r\\n                            Less details\\n\\n\\n\\n\\n\\n\\n\\n\\n\\n\\n\\n\\n\\n\\n\\n\\n\\n\\r\\nTerms and Conditions apply.\\n\\n\\n\\n\\nMember of PIDM. Protected by PIDM up to RM250,000 for each depositor.\\n\\n\\n\\n\\n\\n\\n\\n\\n\\n\\n\\n\\n\\n\\n\\n\\n\\n\\n\\n\\n\\n\\n\\nTenure\\nInterest Rates (p.a.)\\n\\n1 month\\n2.15%\\n2 - 3 months\\n\\n2.25%\\n4 - 5 months\\n2.30%\\n6 months\\n2.30%\\n7 - 11 months\\n\\n2.35%\\n12 - 60 months\\n2.50%\\n\\n\\n\\n\\n\\n\\n\\n\\n\\n\\n\\n\\n\\n\\n\\n\\n\\n\\nImportant notice\\n\\nPlease click\\xa0HERE\\xa0for the exhaustive list of fees and charges.\\n\\n\\n\\n\\n\\n\\n\\n\\n\\n\\n\\n\\n\\n\\n\\n\\n\\nEnglish\\n\\n\\n\\n\\n\\n\\n\\n\\n\\n\\n\\nGeneral Terms & Conditions of Accounts\\n\\n\\n\\n\\n\\n\\n\\n\\n\\n\\n\\n\\n\\n\\n\\n\\n\\n\\n\\n\\n\\n\\nThese may interest you\\n\\n\\n\\n\\n\\nEdit here to enter\\r\\n          details for productdetail page promotion')]\n",
      "  If you don't have enought information from the document, don't answer with your own knowledge.\n",
      "  You can refer to chat history also.\n",
      "  Your answer should be detailed but if you have to do calculation, don't show your work or equations, double check your answer, just provide the final value, and you don't need to show reference.\n",
      "  If the bank's name is not provided in the input, answer with the assumption that the question is about HLB.\n",
      "  If the bank's name is provided and it's not HLB, don't answer that question.\n",
      "  You don't need to answer if the input requires you to do something creative such as writing a song or making a joke.\n",
      "\u001b[0m\n",
      "\n",
      "\u001b[1m> Finished chain.\u001b[0m\n",
      "Tokens Used: 1316\n",
      "\tPrompt Tokens: 1249\n",
      "\tCompletion Tokens: 67\n",
      "Successful Requests: 1\n",
      "Total Cost (USD): $0.0145\n",
      "\n",
      "Retrieved Documents:\n",
      "0. page_content='Interest Payout\\n\\nReceive interest at maturity.\\n\\xa0\\n\\n\\n\\r\\n                            More details\\n\\r\\n                            Less details\\n\\n\\n\\n\\n\\n\\n\\n\\n\\n\\n\\n\\n\\n\\n\\n\\nFlexibility of early fixed deposit partial withdrawal without losing interest on remaining balance\\n\\nPartial withdrawal is in multiples of RM1,000. Outstanding balances will be\\xa0shown on the monthly e-statement.\\nEffective 1 January 2019, no interest shall be payable on partially withdrawn amounts and premature withdrawals of FD.\\n\\xa0\\n\\n\\n\\r\\n                            More details\\n\\r\\n                            Less details\\n\\n\\n\\n\\n\\n\\n\\n\\n\\n\\n\\n\\nConvenient Withdrawal\\n\\nYou can withdraw from any branch nationwide.\\xa0\\n\\n\\n\\r\\n                            More details\\n\\r\\n                            Less details\\n\\n\\n\\n\\n\\n\\n\\n\\n\\n\\n\\n\\n\\n\\n\\n\\nEligibility\\n\\n\\nMinimum deposit of RM5,000 for 1 month placement and RM500 for 2 months and above.\\nApplicable for individual and non-individual customers.\\n\\nFor Malaysian aged 18 years old & above.'\n",
      "1. page_content='More details\\n\\r\\n                            Less details\\n\\n\\n\\n\\n\\n\\n\\n\\n\\n\\n\\n\\nMake an early partial withdrawal and still earn an attractive FD interest on your remaining balance\\n\\nMake an early partial withdrawal anytime and continue to earn an attractive\\xa0FD interest on your remaining balance. (Partial withdrawal is in multiples of RM3,000.\\n\\xa0\\n\\n\\n\\r\\n                            More details\\n\\r\\n                            Less details\\n\\n\\n\\n\\n\\n\\n\\n\\n\\n\\n\\n\\n\\n\\n\\n\\nNo Overdraft Facility is given\\n\\n\\n\\n\\n\\n\\n\\n\\n\\n\\n\\n\\n\\n\\n\\n\\n\\r\\nTerms and Conditions apply.\\n\\n\\n\\n\\nMember of PIDM. Protected by PIDM up to RM250,000 for each depositor.'\n",
      "2. page_content='Earn attractive\\xa0interest for long-term Junior FD tenures\\xa0(12 months and above).\\nMinimum RM1,000 FD placement only.\\nInterest calculated daily and paid at maturity into Junior Savings Account.\\n\\nFlexibility to make early partial withdrawals from your FD and still earn FD interest on remaining balance (Partial withdrawal must be in multiples of RM3,000).\\nQuarterly statement on account summary, \\xa0balances and activities.\\n\\nOption to enrol for standing instruction from Junior Savings Account to Junior FD in multiples of RM1,000 to a maximum of RM5,000.\\n\\nPartial withdrawal available at any branch.\\nEffective 1 January 2019, no interest shall be payable on partially withdrawn amounts and premature withdrawals of Junior Fixed Deposit.\\n\\n\\n\\n\\n\\n\\n\\n\\n\\n\\n\\n\\nEligibility\\n\\n\\nChildren below 18 years old.\\nApplication must be submitted by parents/legal guardian.\\n\\n\\xa0\\n\\n\\n\\r\\n                            More details\\n\\r\\n                            Less details\\n\\n\\n\\n\\n\\n\\n\\n\\n\\n\\n\\n\\n\\n\\n\\n\\n\\n\\r\\nTerms and Conditions apply.'\n",
      "3. page_content='Convenient withdrawal\\n\\nYou can withdraw from any branch nationwide.\\n\\n\\n\\r\\n                            More details\\n\\r\\n                            Less details\\n\\n\\n\\n\\n\\n\\n\\n\\n\\n\\n\\n\\n\\n\\n\\n\\nEligibility\\n\\n\\nFor Malaysian aged 50 years old and above, single or joint names.\\nMinimum RM10,000 to open the Senior Savers Flexi FD.\\n\\n\\xa0\\n\\n\\n\\r\\n                            More details\\n\\r\\n                            Less details\\n\\n\\n\\n\\n\\n\\n\\n\\n\\n\\n\\n\\n\\n\\n\\n\\n\\n\\r\\nTerms and Conditions apply.\\n\\n\\n\\n\\nMember of PIDM. Protected by PIDM up to RM250,000 for each depositor.\\n\\n\\n\\n\\n\\n\\n\\n\\n\\n\\n\\n\\n\\n\\n\\n\\n\\n\\n\\n\\n\\n\\n\\nTenure\\nInterest Rates (p.a.)\\n\\n1 month\\n2.15%\\n2 - 3 months\\n\\n2.25%\\n4 - 5 months\\n2.30%\\n6 months\\n2.30%\\n7 - 11 months\\n\\n2.35%\\n12 - 60 months\\n2.50%\\n\\n\\n\\n\\n\\n\\n\\n\\n\\n\\n\\n\\n\\n\\n\\n\\n\\n\\nImportant notice\\n\\nPlease click\\xa0HERE\\xa0for the exhaustive list of fees and charges.\\n\\n\\n\\n\\n\\n\\n\\n\\n\\n\\n\\n\\n\\n\\n\\n\\n\\nEnglish\\n\\n\\n\\n\\n\\n\\n\\n\\n\\n\\n\\nGeneral Terms & Conditions of Accounts\\n\\n\\n\\n\\n\\n\\n\\n\\n\\n\\n\\n\\n\\n\\n\\n\\n\\n\\n\\n\\n\\n\\nThese may interest you\\n\\n\\n\\n\\n\\nEdit here to enter\\r\\n          details for productdetail page promotion'\n",
      "\n",
      "Answer: Based on the provided documents, the interest rate for a Fixed Deposit (FD) for a tenure of 7-11 months is 2.35% per annum. For an investment of RM 5000 for 9 months, the total withdrawal amount at the end of the term would be RM 5,088.13.\n"
     ]
    }
   ],
   "source": [
    "ask_question(\"Lets say I want to invest RM 5000 in Fixed Deposit for 9 months. Please calculate total withdrawal amount at the end of the term.\")"
   ]
  },
  {
   "cell_type": "code",
   "execution_count": null,
   "metadata": {},
   "outputs": [],
   "source": [
    "ask_question(\"Can a non-resident of Malaysia invest in CIMB SGD fixed deposit?\")"
   ]
  },
  {
   "cell_type": "code",
   "execution_count": null,
   "metadata": {},
   "outputs": [],
   "source": [
    "ask_question(\"Who is the CEO of CIMB bank?\")"
   ]
  },
  {
   "cell_type": "code",
   "execution_count": null,
   "metadata": {},
   "outputs": [],
   "source": [
    "ask_question(\"What is CIMB net profit for the last financial year?\")"
   ]
  },
  {
   "cell_type": "code",
   "execution_count": null,
   "metadata": {},
   "outputs": [],
   "source": [
    "ask_question(\"What if Jay Z from United States wants to invest in SGD fixed deposit. Is that ok ?\")"
   ]
  },
  {
   "cell_type": "code",
   "execution_count": null,
   "metadata": {},
   "outputs": [],
   "source": [
    "ask_question(\"What if Michael Jackson wants to invest in SGD Fixed Deposit. Is that ok?\")"
   ]
  },
  {
   "cell_type": "code",
   "execution_count": 45,
   "metadata": {},
   "outputs": [
    {
     "name": "stdout",
     "output_type": "stream",
     "text": [
      "\n",
      "\n",
      "\u001b[1m> Entering new LLMChain chain...\u001b[0m\n",
      "Prompt after formatting:\n",
      "\u001b[32;1m\u001b[1;3m\n",
      "  You are a helpful assistant who should reply to inputs related only to the HongLeong Bank aka HLB.\n",
      "\n",
      "  Chat History:\n",
      "  Human: Lets say I want to invest RM 5000 in Fixed Deposit for 9 months. Please calculate total withdrawal amount at the end of the term.\n",
      "AI: Based on the provided documents, the interest rate for a Fixed Deposit (FD) for a tenure of 7-11 months is 2.35% per annum. For an investment of RM 5000 for 9 months, the total withdrawal amount at the end of the term would be RM 5,088.13.\n",
      "Human: How many types of fixed deposit Citibank provide?\n",
      "AI: I'm sorry, but I cannot provide information on Citibank's fixed deposit products as the documents provided only contain information related to HongLeong Bank's fixed deposit accounts.\n",
      "Human: Do you know how to calculate compound interest? is it in the document?\n",
      "AI: The documents provided do not contain information on how to calculate compound interest.\n",
      "Human: Lets say I want to invest RM 5000 in Fixed Deposit for 36 months and the interest rate is 5%. Please calculate total withdrawal amount at the end of the term. Take note the interest rate is compund interest?\n",
      "AI: Based on the information provided in the documents, there is no specific mention of the compound interest rate for a Fixed Deposit of RM 5000 for 36 months. Therefore, I cannot calculate the total withdrawal amount at the end of the term with the given interest rate of 5% compound interest.\n",
      "\n",
      "  Reply to the following input: Write a poem for HLB fixed deposit.\n",
      "  By only referring the follwing document: [Document(page_content='Fixed Deposit - HLB\\n\\n\\n\\n\\n\\n\\n\\n\\n\\n\\nFixed Deposit - HLB\\n \\n\\n\\n\\n\\n\\n\\n\\n\\n\\n\\n\\n\\n\\n\\n\\n\\n\\n\\n\\n\\n\\n\\n\\nPERSONAL\\n\\n\\nBUSINESS\\n\\n\\n\\n                            Priority\\n\\n\\nPriority\\nIslamic\\nGlobal Markets\\nBlue Header\\nInterim Homepage\\nPriority Banking Form\\ntest\\ntest\\nLoan Cal\\nLog Viewer\\nasdsadsad\\nstand alone page\\nMaster Form Page\\nMaster Form Page\\n\\n\\n\\n\\n\\n\\n\\n\\n\\n\\n\\n\\n\\n\\n\\n\\nsingapore\\n\\n\\n\\nhong kong\\n\\n\\n\\nvietnam\\n\\n\\n\\ncambodia\\n\\n\\n\\n\\n\\n                            ENG\\n\\n\\nLAN A\\nLAN B\\nLAN C\\n\\n\\n\\n\\n                            Online Banking\\n                        \\n\\nPersonal\\nBusiness\\n\\n\\n\\n\\n\\n\\n\\n\\n\\n\\n\\n\\n\\n                                About Us\\n                            \\n\\nOur Story\\nNews & Updates\\nInvestor Relations\\nCSR\\nAwards\\nManagement & BODs\\nCareer\\n\\n\\n\\n\\n                                Discover Our Products\\n                            \\n\\nDeposits\\nCredit Card\\nLoans\\nInsurance\\nInvestment\\nRemittance\\nHong Leong Connect\\n\\n\\n\\n\\n                                Apply Online'), Document(page_content='Apply Online\\n                            \\n\\nCredit Card\\nPersonal Loans\\nCurrent / Saving Account\\n\\n\\n\\n\\n                                Promotions\\n                            \\n\\nLatest Promotions\\n\\n\\n\\n\\n\\n\\n\\n\\n\\n\\n\\n\\n\\n\\n\\n\\n\\n\\n\\n\\n\\n\\n\\n\\n\\n\\n\\n\\n\\nFixed Deposit Account\\r\\n                                >\\n\\n\\r\\n                            Fixed Deposit\\r\\n                        \\n\\n\\n\\n\\n\\n\\n\\n\\n\\n\\n\\n\\n\\n\\n\\n\\n\\n\\n\\nThe perfect beginning for long-term savings.\\n\\n\\n\\n\\n\\n\\n\\n\\n\\nApply Now\\n\\n\\n\\n\\n\\n\\n\\n\\n\\n\\n\\n\\n\\n\\n\\n\\n\\n\\n\\n\\n\\n\\n\\n\\n\\n\\n\\n\\n\\n\\n\\n\\n\\nI’m interested\\n\\n\\n\\n\\n\\n\\n\\n\\n\\n\\n\\n\\n\\n\\n\\n\\n\\n\\n\\n\\n\\n\\n\\nFeatures & Benefits\\n\\n\\n\\n\\nFeatures & Benefits\\n\\n\\nInterest Rate (wef 21/07/2023)\\n\\n\\nFees & Charges\\n\\n\\nTerms & Conditions\\n\\n\\n\\n\\n\\n\\n\\n\\n\\n\\n\\n\\n\\nHLB Fixed Deposit account is a good start for your long-term savings plan.\\n\\n\\n\\n\\n\\n\\n\\n\\n\\n\\n\\nLong Term\\n\\nA choice of terms from 1 - 60 months.\\n\\xa0\\n\\n\\n\\r\\n                            More details\\n\\r\\n                            Less details\\n\\n\\n\\n\\n\\n\\n\\n\\n\\n\\n\\n\\nInterest Payout\\n\\nReceive interest at maturity.'), Document(page_content='Apply Online\\n                            \\n\\nCredit Card\\nPersonal Loans\\nCurrent / Saving Account\\n\\n\\n\\n\\n                                Promotions\\n                            \\n\\nLatest Promotions\\n\\n\\n\\n\\n\\n\\n\\n\\n\\n\\n\\n\\n\\n\\n\\n\\n\\n\\n\\n\\n\\n\\n\\n\\n\\n\\n\\n\\n\\nFixed Deposit Account\\r\\n                                >\\n\\n\\r\\n                            Flexi FD\\r\\n                        \\n\\n\\n\\n\\n\\n\\n\\n\\n\\n\\n\\n\\n\\n\\n\\n\\n\\n\\n\\nA truly flexible fixed deposit account\\n\\n\\n\\n\\n\\n\\n\\n\\n\\nApply Now\\n\\n\\n\\n\\n\\n\\n\\n\\n\\n\\n\\n\\n\\n\\n\\n\\n\\n\\n\\n\\n\\n\\n\\n\\n\\n\\n\\n\\n\\n\\n\\n\\n\\nI’m interested\\n\\n\\n\\n\\n\\n\\n\\n\\n\\n\\n\\n\\n\\n\\n\\n\\n\\n\\n\\n\\n\\n\\n\\nFeatures & Benefits\\n\\n\\n\\n\\nFeatures & Benefits\\n\\n\\nOther Flexible Feature\\n\\n\\nInterest Rate (wef 21/07/2023)\\n\\n\\nFees & Charges\\n\\n\\nTerms & Conditions\\n\\n\\n\\n\\n\\n\\n\\n\\n\\n\\n\\n\\n\\nHLB Flexi Fixed Deposit rewards you with attractive interest and auto-sweep facility from Flexi Fixed Deposit to Flexi One Account or vice versa.\\n\\n\\n\\n\\n\\n\\n\\n\\n\\n\\n\\nEarn attractive FD interest for 12-month tenure'), Document(page_content='Fixed Deposit | Hong Leong Bank Malaysia\\n\\n\\n\\n\\n\\n\\n\\n\\n\\n\\nFixed Deposit\\n \\nnull\\n\\n\\n\\n\\n\\n\\n\\n\\n\\n\\n\\n\\n\\n\\n\\n\\n\\n\\n\\n\\n\\n\\n\\nPERSONAL\\n\\n\\nBUSINESS\\n\\n\\n\\n                            Priority\\n\\n\\nPriority\\nIslamic\\nGlobal Markets\\nBlue Header\\nInterim Homepage\\nPriority Banking Form\\ntest\\ntest\\nLoan Cal\\nLog Viewer\\nasdsadsad\\nstand alone page\\nMaster Form Page\\nMaster Form Page\\n\\n\\n\\n\\n\\n\\n\\n\\n\\n\\n\\n\\n\\n\\n\\n\\nsingapore\\n\\n\\n\\nhong kong\\n\\n\\n\\nvietnam\\n\\n\\n\\ncambodia\\n\\n\\n\\n\\n\\n                            ENG\\n\\n\\nLAN A\\nLAN B\\nLAN C\\n\\n\\n\\n\\n                            Online Banking\\n                        \\n\\nPersonal\\nBusiness\\n\\n\\n\\n\\n\\n\\n\\n\\n\\n\\n\\n\\n\\n                                About Us\\n                            \\n\\nOur Story\\nNews & Updates\\nInvestor Relations\\nCSR\\nAwards\\nManagement & BODs\\nCareer\\n\\n\\n\\n\\n                                Discover Our Products\\n                            \\n\\nDeposits\\nCredit Card\\nLoans\\nInsurance\\nInvestment\\nRemittance\\nHong Leong Connect\\n\\n\\n\\n\\n                                Apply Online')]\n",
      "  If you don't have enought information from the document, don't answer with your own knowledge.\n",
      "  You can refer to chat history also.\n",
      "  Your answer should be detailed but if you have to do calculation, don't show your work or equations, double check your answer, just provide the final value, and you don't need to show reference.\n",
      "  If the bank's name is not provided in the input, answer with the assumption that the question is about HLB.\n",
      "  If the bank's name is provided and it's not HLB, don't answer that question.\n",
      "  You don't need to answer if the input requires you to do something creative such as writing a song or making a joke.\n",
      "\u001b[0m\n",
      "\n",
      "\u001b[1m> Finished chain.\u001b[0m\n",
      "Tokens Used: 1716\n",
      "\tPrompt Tokens: 1685\n",
      "\tCompletion Tokens: 31\n",
      "Successful Requests: 1\n",
      "Total Cost (USD): $0.01778\n",
      "\n",
      "Retrieved Documents:\n",
      "0. page_content='Fixed Deposit - HLB\\n\\n\\n\\n\\n\\n\\n\\n\\n\\n\\nFixed Deposit - HLB\\n \\n\\n\\n\\n\\n\\n\\n\\n\\n\\n\\n\\n\\n\\n\\n\\n\\n\\n\\n\\n\\n\\n\\n\\nPERSONAL\\n\\n\\nBUSINESS\\n\\n\\n\\n                            Priority\\n\\n\\nPriority\\nIslamic\\nGlobal Markets\\nBlue Header\\nInterim Homepage\\nPriority Banking Form\\ntest\\ntest\\nLoan Cal\\nLog Viewer\\nasdsadsad\\nstand alone page\\nMaster Form Page\\nMaster Form Page\\n\\n\\n\\n\\n\\n\\n\\n\\n\\n\\n\\n\\n\\n\\n\\n\\nsingapore\\n\\n\\n\\nhong kong\\n\\n\\n\\nvietnam\\n\\n\\n\\ncambodia\\n\\n\\n\\n\\n\\n                            ENG\\n\\n\\nLAN A\\nLAN B\\nLAN C\\n\\n\\n\\n\\n                            Online Banking\\n                        \\n\\nPersonal\\nBusiness\\n\\n\\n\\n\\n\\n\\n\\n\\n\\n\\n\\n\\n\\n                                About Us\\n                            \\n\\nOur Story\\nNews & Updates\\nInvestor Relations\\nCSR\\nAwards\\nManagement & BODs\\nCareer\\n\\n\\n\\n\\n                                Discover Our Products\\n                            \\n\\nDeposits\\nCredit Card\\nLoans\\nInsurance\\nInvestment\\nRemittance\\nHong Leong Connect\\n\\n\\n\\n\\n                                Apply Online'\n",
      "1. page_content='Apply Online\\n                            \\n\\nCredit Card\\nPersonal Loans\\nCurrent / Saving Account\\n\\n\\n\\n\\n                                Promotions\\n                            \\n\\nLatest Promotions\\n\\n\\n\\n\\n\\n\\n\\n\\n\\n\\n\\n\\n\\n\\n\\n\\n\\n\\n\\n\\n\\n\\n\\n\\n\\n\\n\\n\\n\\nFixed Deposit Account\\r\\n                                >\\n\\n\\r\\n                            Fixed Deposit\\r\\n                        \\n\\n\\n\\n\\n\\n\\n\\n\\n\\n\\n\\n\\n\\n\\n\\n\\n\\n\\n\\nThe perfect beginning for long-term savings.\\n\\n\\n\\n\\n\\n\\n\\n\\n\\nApply Now\\n\\n\\n\\n\\n\\n\\n\\n\\n\\n\\n\\n\\n\\n\\n\\n\\n\\n\\n\\n\\n\\n\\n\\n\\n\\n\\n\\n\\n\\n\\n\\n\\n\\nI’m interested\\n\\n\\n\\n\\n\\n\\n\\n\\n\\n\\n\\n\\n\\n\\n\\n\\n\\n\\n\\n\\n\\n\\n\\nFeatures & Benefits\\n\\n\\n\\n\\nFeatures & Benefits\\n\\n\\nInterest Rate (wef 21/07/2023)\\n\\n\\nFees & Charges\\n\\n\\nTerms & Conditions\\n\\n\\n\\n\\n\\n\\n\\n\\n\\n\\n\\n\\n\\nHLB Fixed Deposit account is a good start for your long-term savings plan.\\n\\n\\n\\n\\n\\n\\n\\n\\n\\n\\n\\nLong Term\\n\\nA choice of terms from 1 - 60 months.\\n\\xa0\\n\\n\\n\\r\\n                            More details\\n\\r\\n                            Less details\\n\\n\\n\\n\\n\\n\\n\\n\\n\\n\\n\\n\\nInterest Payout\\n\\nReceive interest at maturity.'\n",
      "2. page_content='Apply Online\\n                            \\n\\nCredit Card\\nPersonal Loans\\nCurrent / Saving Account\\n\\n\\n\\n\\n                                Promotions\\n                            \\n\\nLatest Promotions\\n\\n\\n\\n\\n\\n\\n\\n\\n\\n\\n\\n\\n\\n\\n\\n\\n\\n\\n\\n\\n\\n\\n\\n\\n\\n\\n\\n\\n\\nFixed Deposit Account\\r\\n                                >\\n\\n\\r\\n                            Flexi FD\\r\\n                        \\n\\n\\n\\n\\n\\n\\n\\n\\n\\n\\n\\n\\n\\n\\n\\n\\n\\n\\n\\nA truly flexible fixed deposit account\\n\\n\\n\\n\\n\\n\\n\\n\\n\\nApply Now\\n\\n\\n\\n\\n\\n\\n\\n\\n\\n\\n\\n\\n\\n\\n\\n\\n\\n\\n\\n\\n\\n\\n\\n\\n\\n\\n\\n\\n\\n\\n\\n\\n\\nI’m interested\\n\\n\\n\\n\\n\\n\\n\\n\\n\\n\\n\\n\\n\\n\\n\\n\\n\\n\\n\\n\\n\\n\\n\\nFeatures & Benefits\\n\\n\\n\\n\\nFeatures & Benefits\\n\\n\\nOther Flexible Feature\\n\\n\\nInterest Rate (wef 21/07/2023)\\n\\n\\nFees & Charges\\n\\n\\nTerms & Conditions\\n\\n\\n\\n\\n\\n\\n\\n\\n\\n\\n\\n\\n\\nHLB Flexi Fixed Deposit rewards you with attractive interest and auto-sweep facility from Flexi Fixed Deposit to Flexi One Account or vice versa.\\n\\n\\n\\n\\n\\n\\n\\n\\n\\n\\n\\nEarn attractive FD interest for 12-month tenure'\n",
      "3. page_content='Fixed Deposit | Hong Leong Bank Malaysia\\n\\n\\n\\n\\n\\n\\n\\n\\n\\n\\nFixed Deposit\\n \\nnull\\n\\n\\n\\n\\n\\n\\n\\n\\n\\n\\n\\n\\n\\n\\n\\n\\n\\n\\n\\n\\n\\n\\n\\nPERSONAL\\n\\n\\nBUSINESS\\n\\n\\n\\n                            Priority\\n\\n\\nPriority\\nIslamic\\nGlobal Markets\\nBlue Header\\nInterim Homepage\\nPriority Banking Form\\ntest\\ntest\\nLoan Cal\\nLog Viewer\\nasdsadsad\\nstand alone page\\nMaster Form Page\\nMaster Form Page\\n\\n\\n\\n\\n\\n\\n\\n\\n\\n\\n\\n\\n\\n\\n\\n\\nsingapore\\n\\n\\n\\nhong kong\\n\\n\\n\\nvietnam\\n\\n\\n\\ncambodia\\n\\n\\n\\n\\n\\n                            ENG\\n\\n\\nLAN A\\nLAN B\\nLAN C\\n\\n\\n\\n\\n                            Online Banking\\n                        \\n\\nPersonal\\nBusiness\\n\\n\\n\\n\\n\\n\\n\\n\\n\\n\\n\\n\\n\\n                                About Us\\n                            \\n\\nOur Story\\nNews & Updates\\nInvestor Relations\\nCSR\\nAwards\\nManagement & BODs\\nCareer\\n\\n\\n\\n\\n                                Discover Our Products\\n                            \\n\\nDeposits\\nCredit Card\\nLoans\\nInsurance\\nInvestment\\nRemittance\\nHong Leong Connect\\n\\n\\n\\n\\n                                Apply Online'\n",
      "\n",
      "Answer: Your request for a poem about HLB fixed deposit cannot be fulfilled as it requires a creative task which is outside the scope of the provided documents and instructions.\n"
     ]
    }
   ],
   "source": [
    "ask_question(\"Write a poem for HLB fixed deposit.\")"
   ]
  },
  {
   "cell_type": "code",
   "execution_count": null,
   "metadata": {},
   "outputs": [
    {
     "name": "stdout",
     "output_type": "stream",
     "text": [
      "\n",
      "\n",
      "\u001b[1m> Entering new LLMChain chain...\u001b[0m\n",
      "Prompt after formatting:\n",
      "\u001b[32;1m\u001b[1;3m\n",
      "  You are a helpful assistant who should reply to inputs related only to the HongLeong Bank aka HLB.\n",
      "\n",
      "  Chat History:\n",
      "  Human: Lets say I want to invest RM 5000 in Fixed Deposit for 9 months. Please calculate total withdrawal amount at the end of the term.\n",
      "AI: Based on the provided documents, the interest rate for a Fixed Deposit (FD) for a tenure of 7-11 months is 2.35% per annum. For an investment of RM 5000 for 9 months, the total withdrawal amount at the end of the term would be RM 5,088.13.\n",
      "Human: How many types of fixed deposit Citibank provide?\n",
      "AI: I'm sorry, but I cannot provide information on Citibank's fixed deposit products as the documents provided only contain information related to HongLeong Bank's fixed deposit accounts.\n",
      "Human: Do you know how to calculate compound interest? is it in the document?\n",
      "AI: The documents provided do not contain information on how to calculate compound interest.\n",
      "Human: Lets say I want to invest RM 5000 in Fixed Deposit for 36 months and the interest rate is 5%. Please calculate total withdrawal amount at the end of the term. Take note the interest rate is compund interest?\n",
      "AI: Based on the information provided in the documents, there is no specific mention of the compound interest rate for a Fixed Deposit of RM 5000 for 36 months. Therefore, I cannot calculate the total withdrawal amount at the end of the term with the given interest rate of 5% compound interest.\n",
      "\n",
      "  Reply to the following input: Write a poem for HLB fixed deposit.\n",
      "  By only referring the follwing document: [Document(page_content='Fixed Deposit - HLB\\n\\n\\n\\n\\n\\n\\n\\n\\n\\n\\nFixed Deposit - HLB\\n \\n\\n\\n\\n\\n\\n\\n\\n\\n\\n\\n\\n\\n\\n\\n\\n\\n\\n\\n\\n\\n\\n\\n\\nPERSONAL\\n\\n\\nBUSINESS\\n\\n\\n\\n                            Priority\\n\\n\\nPriority\\nIslamic\\nGlobal Markets\\nBlue Header\\nInterim Homepage\\nPriority Banking Form\\ntest\\ntest\\nLoan Cal\\nLog Viewer\\nasdsadsad\\nstand alone page\\nMaster Form Page\\nMaster Form Page\\n\\n\\n\\n\\n\\n\\n\\n\\n\\n\\n\\n\\n\\n\\n\\n\\nsingapore\\n\\n\\n\\nhong kong\\n\\n\\n\\nvietnam\\n\\n\\n\\ncambodia\\n\\n\\n\\n\\n\\n                            ENG\\n\\n\\nLAN A\\nLAN B\\nLAN C\\n\\n\\n\\n\\n                            Online Banking\\n                        \\n\\nPersonal\\nBusiness\\n\\n\\n\\n\\n\\n\\n\\n\\n\\n\\n\\n\\n\\n                                About Us\\n                            \\n\\nOur Story\\nNews & Updates\\nInvestor Relations\\nCSR\\nAwards\\nManagement & BODs\\nCareer\\n\\n\\n\\n\\n                                Discover Our Products\\n                            \\n\\nDeposits\\nCredit Card\\nLoans\\nInsurance\\nInvestment\\nRemittance\\nHong Leong Connect\\n\\n\\n\\n\\n                                Apply Online'), Document(page_content='Apply Online\\n                            \\n\\nCredit Card\\nPersonal Loans\\nCurrent / Saving Account\\n\\n\\n\\n\\n                                Promotions\\n                            \\n\\nLatest Promotions\\n\\n\\n\\n\\n\\n\\n\\n\\n\\n\\n\\n\\n\\n\\n\\n\\n\\n\\n\\n\\n\\n\\n\\n\\n\\n\\n\\n\\n\\nFixed Deposit Account\\r\\n                                >\\n\\n\\r\\n                            Fixed Deposit\\r\\n                        \\n\\n\\n\\n\\n\\n\\n\\n\\n\\n\\n\\n\\n\\n\\n\\n\\n\\n\\n\\nThe perfect beginning for long-term savings.\\n\\n\\n\\n\\n\\n\\n\\n\\n\\nApply Now\\n\\n\\n\\n\\n\\n\\n\\n\\n\\n\\n\\n\\n\\n\\n\\n\\n\\n\\n\\n\\n\\n\\n\\n\\n\\n\\n\\n\\n\\n\\n\\n\\n\\nI’m interested\\n\\n\\n\\n\\n\\n\\n\\n\\n\\n\\n\\n\\n\\n\\n\\n\\n\\n\\n\\n\\n\\n\\n\\nFeatures & Benefits\\n\\n\\n\\n\\nFeatures & Benefits\\n\\n\\nInterest Rate (wef 21/07/2023)\\n\\n\\nFees & Charges\\n\\n\\nTerms & Conditions\\n\\n\\n\\n\\n\\n\\n\\n\\n\\n\\n\\n\\n\\nHLB Fixed Deposit account is a good start for your long-term savings plan.\\n\\n\\n\\n\\n\\n\\n\\n\\n\\n\\n\\nLong Term\\n\\nA choice of terms from 1 - 60 months.\\n\\xa0\\n\\n\\n\\r\\n                            More details\\n\\r\\n                            Less details\\n\\n\\n\\n\\n\\n\\n\\n\\n\\n\\n\\n\\nInterest Payout\\n\\nReceive interest at maturity.'), Document(page_content='Apply Online\\n                            \\n\\nCredit Card\\nPersonal Loans\\nCurrent / Saving Account\\n\\n\\n\\n\\n                                Promotions\\n                            \\n\\nLatest Promotions\\n\\n\\n\\n\\n\\n\\n\\n\\n\\n\\n\\n\\n\\n\\n\\n\\n\\n\\n\\n\\n\\n\\n\\n\\n\\n\\n\\n\\n\\nFixed Deposit Account\\r\\n                                >\\n\\n\\r\\n                            Flexi FD\\r\\n                        \\n\\n\\n\\n\\n\\n\\n\\n\\n\\n\\n\\n\\n\\n\\n\\n\\n\\n\\n\\nA truly flexible fixed deposit account\\n\\n\\n\\n\\n\\n\\n\\n\\n\\nApply Now\\n\\n\\n\\n\\n\\n\\n\\n\\n\\n\\n\\n\\n\\n\\n\\n\\n\\n\\n\\n\\n\\n\\n\\n\\n\\n\\n\\n\\n\\n\\n\\n\\n\\nI’m interested\\n\\n\\n\\n\\n\\n\\n\\n\\n\\n\\n\\n\\n\\n\\n\\n\\n\\n\\n\\n\\n\\n\\n\\nFeatures & Benefits\\n\\n\\n\\n\\nFeatures & Benefits\\n\\n\\nOther Flexible Feature\\n\\n\\nInterest Rate (wef 21/07/2023)\\n\\n\\nFees & Charges\\n\\n\\nTerms & Conditions\\n\\n\\n\\n\\n\\n\\n\\n\\n\\n\\n\\n\\n\\nHLB Flexi Fixed Deposit rewards you with attractive interest and auto-sweep facility from Flexi Fixed Deposit to Flexi One Account or vice versa.\\n\\n\\n\\n\\n\\n\\n\\n\\n\\n\\n\\nEarn attractive FD interest for 12-month tenure'), Document(page_content='Fixed Deposit | Hong Leong Bank Malaysia\\n\\n\\n\\n\\n\\n\\n\\n\\n\\n\\nFixed Deposit\\n \\nnull\\n\\n\\n\\n\\n\\n\\n\\n\\n\\n\\n\\n\\n\\n\\n\\n\\n\\n\\n\\n\\n\\n\\n\\nPERSONAL\\n\\n\\nBUSINESS\\n\\n\\n\\n                            Priority\\n\\n\\nPriority\\nIslamic\\nGlobal Markets\\nBlue Header\\nInterim Homepage\\nPriority Banking Form\\ntest\\ntest\\nLoan Cal\\nLog Viewer\\nasdsadsad\\nstand alone page\\nMaster Form Page\\nMaster Form Page\\n\\n\\n\\n\\n\\n\\n\\n\\n\\n\\n\\n\\n\\n\\n\\n\\nsingapore\\n\\n\\n\\nhong kong\\n\\n\\n\\nvietnam\\n\\n\\n\\ncambodia\\n\\n\\n\\n\\n\\n                            ENG\\n\\n\\nLAN A\\nLAN B\\nLAN C\\n\\n\\n\\n\\n                            Online Banking\\n                        \\n\\nPersonal\\nBusiness\\n\\n\\n\\n\\n\\n\\n\\n\\n\\n\\n\\n\\n\\n                                About Us\\n                            \\n\\nOur Story\\nNews & Updates\\nInvestor Relations\\nCSR\\nAwards\\nManagement & BODs\\nCareer\\n\\n\\n\\n\\n                                Discover Our Products\\n                            \\n\\nDeposits\\nCredit Card\\nLoans\\nInsurance\\nInvestment\\nRemittance\\nHong Leong Connect\\n\\n\\n\\n\\n                                Apply Online')]\n",
      "  If you don't have enought information from the document, don't answer with your own knowledge.\n",
      "  You can refer to chat history also.\n",
      "  Your answer should be detailed but if you have to do calculation, don't show your work or equations, double check your answer, just provide the final value, and you don't need to show reference.\n",
      "  If the bank's name is not provided in the input, answer with the assumption that the question is about HLB.\n",
      "  If the bank's name is provided and it's not HLB, don't answer that question.\n",
      "  You don't need to answer if the input requires you to do something creative such as writing a song or making a joke.\n",
      "\u001b[0m\n",
      "\n",
      "\u001b[1m> Finished chain.\u001b[0m\n",
      "Tokens Used: 1716\n",
      "\tPrompt Tokens: 1685\n",
      "\tCompletion Tokens: 31\n",
      "Successful Requests: 1\n",
      "Total Cost (USD): $0.01778\n",
      "\n",
      "Retrieved Documents:\n",
      "0. page_content='Fixed Deposit - HLB\\n\\n\\n\\n\\n\\n\\n\\n\\n\\n\\nFixed Deposit - HLB\\n \\n\\n\\n\\n\\n\\n\\n\\n\\n\\n\\n\\n\\n\\n\\n\\n\\n\\n\\n\\n\\n\\n\\n\\nPERSONAL\\n\\n\\nBUSINESS\\n\\n\\n\\n                            Priority\\n\\n\\nPriority\\nIslamic\\nGlobal Markets\\nBlue Header\\nInterim Homepage\\nPriority Banking Form\\ntest\\ntest\\nLoan Cal\\nLog Viewer\\nasdsadsad\\nstand alone page\\nMaster Form Page\\nMaster Form Page\\n\\n\\n\\n\\n\\n\\n\\n\\n\\n\\n\\n\\n\\n\\n\\n\\nsingapore\\n\\n\\n\\nhong kong\\n\\n\\n\\nvietnam\\n\\n\\n\\ncambodia\\n\\n\\n\\n\\n\\n                            ENG\\n\\n\\nLAN A\\nLAN B\\nLAN C\\n\\n\\n\\n\\n                            Online Banking\\n                        \\n\\nPersonal\\nBusiness\\n\\n\\n\\n\\n\\n\\n\\n\\n\\n\\n\\n\\n\\n                                About Us\\n                            \\n\\nOur Story\\nNews & Updates\\nInvestor Relations\\nCSR\\nAwards\\nManagement & BODs\\nCareer\\n\\n\\n\\n\\n                                Discover Our Products\\n                            \\n\\nDeposits\\nCredit Card\\nLoans\\nInsurance\\nInvestment\\nRemittance\\nHong Leong Connect\\n\\n\\n\\n\\n                                Apply Online'\n",
      "1. page_content='Apply Online\\n                            \\n\\nCredit Card\\nPersonal Loans\\nCurrent / Saving Account\\n\\n\\n\\n\\n                                Promotions\\n                            \\n\\nLatest Promotions\\n\\n\\n\\n\\n\\n\\n\\n\\n\\n\\n\\n\\n\\n\\n\\n\\n\\n\\n\\n\\n\\n\\n\\n\\n\\n\\n\\n\\n\\nFixed Deposit Account\\r\\n                                >\\n\\n\\r\\n                            Fixed Deposit\\r\\n                        \\n\\n\\n\\n\\n\\n\\n\\n\\n\\n\\n\\n\\n\\n\\n\\n\\n\\n\\n\\nThe perfect beginning for long-term savings.\\n\\n\\n\\n\\n\\n\\n\\n\\n\\nApply Now\\n\\n\\n\\n\\n\\n\\n\\n\\n\\n\\n\\n\\n\\n\\n\\n\\n\\n\\n\\n\\n\\n\\n\\n\\n\\n\\n\\n\\n\\n\\n\\n\\n\\nI’m interested\\n\\n\\n\\n\\n\\n\\n\\n\\n\\n\\n\\n\\n\\n\\n\\n\\n\\n\\n\\n\\n\\n\\n\\nFeatures & Benefits\\n\\n\\n\\n\\nFeatures & Benefits\\n\\n\\nInterest Rate (wef 21/07/2023)\\n\\n\\nFees & Charges\\n\\n\\nTerms & Conditions\\n\\n\\n\\n\\n\\n\\n\\n\\n\\n\\n\\n\\n\\nHLB Fixed Deposit account is a good start for your long-term savings plan.\\n\\n\\n\\n\\n\\n\\n\\n\\n\\n\\n\\nLong Term\\n\\nA choice of terms from 1 - 60 months.\\n\\xa0\\n\\n\\n\\r\\n                            More details\\n\\r\\n                            Less details\\n\\n\\n\\n\\n\\n\\n\\n\\n\\n\\n\\n\\nInterest Payout\\n\\nReceive interest at maturity.'\n",
      "2. page_content='Apply Online\\n                            \\n\\nCredit Card\\nPersonal Loans\\nCurrent / Saving Account\\n\\n\\n\\n\\n                                Promotions\\n                            \\n\\nLatest Promotions\\n\\n\\n\\n\\n\\n\\n\\n\\n\\n\\n\\n\\n\\n\\n\\n\\n\\n\\n\\n\\n\\n\\n\\n\\n\\n\\n\\n\\n\\nFixed Deposit Account\\r\\n                                >\\n\\n\\r\\n                            Flexi FD\\r\\n                        \\n\\n\\n\\n\\n\\n\\n\\n\\n\\n\\n\\n\\n\\n\\n\\n\\n\\n\\n\\nA truly flexible fixed deposit account\\n\\n\\n\\n\\n\\n\\n\\n\\n\\nApply Now\\n\\n\\n\\n\\n\\n\\n\\n\\n\\n\\n\\n\\n\\n\\n\\n\\n\\n\\n\\n\\n\\n\\n\\n\\n\\n\\n\\n\\n\\n\\n\\n\\n\\nI’m interested\\n\\n\\n\\n\\n\\n\\n\\n\\n\\n\\n\\n\\n\\n\\n\\n\\n\\n\\n\\n\\n\\n\\n\\nFeatures & Benefits\\n\\n\\n\\n\\nFeatures & Benefits\\n\\n\\nOther Flexible Feature\\n\\n\\nInterest Rate (wef 21/07/2023)\\n\\n\\nFees & Charges\\n\\n\\nTerms & Conditions\\n\\n\\n\\n\\n\\n\\n\\n\\n\\n\\n\\n\\n\\nHLB Flexi Fixed Deposit rewards you with attractive interest and auto-sweep facility from Flexi Fixed Deposit to Flexi One Account or vice versa.\\n\\n\\n\\n\\n\\n\\n\\n\\n\\n\\n\\nEarn attractive FD interest for 12-month tenure'\n",
      "3. page_content='Fixed Deposit | Hong Leong Bank Malaysia\\n\\n\\n\\n\\n\\n\\n\\n\\n\\n\\nFixed Deposit\\n \\nnull\\n\\n\\n\\n\\n\\n\\n\\n\\n\\n\\n\\n\\n\\n\\n\\n\\n\\n\\n\\n\\n\\n\\n\\nPERSONAL\\n\\n\\nBUSINESS\\n\\n\\n\\n                            Priority\\n\\n\\nPriority\\nIslamic\\nGlobal Markets\\nBlue Header\\nInterim Homepage\\nPriority Banking Form\\ntest\\ntest\\nLoan Cal\\nLog Viewer\\nasdsadsad\\nstand alone page\\nMaster Form Page\\nMaster Form Page\\n\\n\\n\\n\\n\\n\\n\\n\\n\\n\\n\\n\\n\\n\\n\\n\\nsingapore\\n\\n\\n\\nhong kong\\n\\n\\n\\nvietnam\\n\\n\\n\\ncambodia\\n\\n\\n\\n\\n\\n                            ENG\\n\\n\\nLAN A\\nLAN B\\nLAN C\\n\\n\\n\\n\\n                            Online Banking\\n                        \\n\\nPersonal\\nBusiness\\n\\n\\n\\n\\n\\n\\n\\n\\n\\n\\n\\n\\n\\n                                About Us\\n                            \\n\\nOur Story\\nNews & Updates\\nInvestor Relations\\nCSR\\nAwards\\nManagement & BODs\\nCareer\\n\\n\\n\\n\\n                                Discover Our Products\\n                            \\n\\nDeposits\\nCredit Card\\nLoans\\nInsurance\\nInvestment\\nRemittance\\nHong Leong Connect\\n\\n\\n\\n\\n                                Apply Online'\n",
      "\n",
      "Answer: Your request for a poem about HLB fixed deposit cannot be fulfilled as it requires a creative task which is outside the scope of the provided documents and instructions.\n"
     ]
    }
   ],
   "source": [
    "ask_question(\"Write a poem for HLB fixed deposit.\")"
   ]
  },
  {
   "cell_type": "code",
   "execution_count": 47,
   "metadata": {},
   "outputs": [
    {
     "name": "stdout",
     "output_type": "stream",
     "text": [
      "\n",
      "\n",
      "\u001b[1m> Entering new LLMChain chain...\u001b[0m\n",
      "Prompt after formatting:\n",
      "\u001b[32;1m\u001b[1;3m\n",
      "  You are a helpful assistant who should reply to inputs related only to the HongLeong Bank aka HLB.\n",
      "\n",
      "  Chat History:\n",
      "  Human: Do you know how to calculate compound interest? is it in the document?\n",
      "AI: The documents provided do not contain information on how to calculate compound interest.\n",
      "Human: Lets say I want to invest RM 5000 in Fixed Deposit for 36 months and the interest rate is 5%. Please calculate total withdrawal amount at the end of the term. Take note the interest rate is compund interest?\n",
      "AI: Based on the information provided in the documents, there is no specific mention of the compound interest rate for a Fixed Deposit of RM 5000 for 36 months. Therefore, I cannot calculate the total withdrawal amount at the end of the term with the given interest rate of 5% compound interest.\n",
      "Human: Write a poem for HLB fixed deposit.\n",
      "AI: Your request for a poem about HLB fixed deposit cannot be fulfilled as it requires a creative task which is outside the scope of the provided documents and instructions.\n",
      "Human: how many types of saving accounts are there in a general bank?\n",
      "AI: Based on the documents provided, HongLeong Bank offers at least two types of savings accounts: the Pay&Save Account (with Multi Currency Feature) and the 3-in-1 Junior Account.\n",
      "\n",
      "  Reply to the following input: What is the difference between fixed deposit and e-fixed deposit?\n",
      "  By only referring the follwing document: [Document(page_content='eFixed Deposit | FD Rate Malaysia - Hong Leong Bank\\n\\n\\n\\n\\n\\n\\n\\n\\n\\n\\ne-Fixed Deposits\\n \\nnull\\n\\n\\n\\n\\n\\n\\n\\n\\n\\n\\n\\n\\n\\n\\n\\n\\n\\n\\n\\n\\n\\n\\n\\nPERSONAL\\n\\n\\nBUSINESS\\n\\n\\n\\n                            Priority\\n\\n\\nPriority\\nIslamic\\nGlobal Markets\\nBlue Header\\nInterim Homepage\\nPriority Banking Form\\ntest\\ntest\\nLoan Cal\\nLog Viewer\\nasdsadsad\\nstand alone page\\nMaster Form Page\\nMaster Form Page\\n\\n\\n\\n\\n\\n\\n\\n\\n\\n\\n\\n\\n\\n\\n\\n\\nsingapore\\n\\n\\n\\nhong kong\\n\\n\\n\\nvietnam\\n\\n\\n\\ncambodia\\n\\n\\n\\n\\n\\n                            ENG\\n\\n\\nLAN A\\nLAN B\\nLAN C\\n\\n\\n\\n\\n                            Online Banking\\n                        \\n\\nPersonal\\nBusiness\\n\\n\\n\\n\\n\\n\\n\\n\\n\\n\\n\\n\\n\\n                                About Us\\n                            \\n\\nOur Story\\nNews & Updates\\nInvestor Relations\\nCSR\\nAwards\\nManagement & BODs\\nCareer\\n\\n\\n\\n\\n                                Discover Our Products\\n                            \\n\\nDeposits\\nCredit Card\\nLoans\\nInsurance\\nInvestment\\nRemittance\\nHong Leong Connect'), Document(page_content='Terms and Conditions apply.\\n\\n\\n\\n\\nMember of PIDM. Protected by PIDM up to RM250,000 for each depositor.\\n\\n\\n\\n\\n\\n\\n\\n\\n\\n\\n\\n\\n\\n\\n\\n\\n\\n\\n\\n\\n\\n\\n\\nTenure\\nInterest Rates (p.a.)\\n1 month\\n1.85%\\n2 months\\n2.25%\\n3 months\\n2.25%\\n4 months\\n2.30%\\n5 months\\n2.30%\\n6 months\\n2.30%\\n7 months\\n2.35%\\n8 months\\n2.35%\\n9 months\\n2.35%\\n10 months\\n2.35%\\n11 months\\n2.35%\\n12 months\\n2.35%\\n13 - 60 months\\n\\n2.35%\\n\\n\\n\\n\\n\\n\\n\\n\\n\\n\\n\\n\\n\\n\\n\\n\\n\\n\\nImportant notice\\nPlease click\\xa0HERE\\xa0for the exhaustive list of fees and charges.\\n\\n\\n\\n\\n\\n\\n\\n\\n\\n\\n\\n\\n\\n\\n\\n\\n\\nEnglish\\n\\n\\n\\n\\n\\n\\n\\n\\n\\n\\n\\ne-Fixed Deposit Terms and Conditions of Accounts\\n\\n\\n\\n\\n\\n\\n\\n\\nGeneral Term & Condition of Accounts\\n\\n\\n\\n\\n\\n\\n\\n\\n\\n\\n\\n\\n\\n\\n\\n\\n\\n\\n\\n\\n\\n\\nThese may interest you\\n\\n\\n\\n\\n\\nEdit here to enter\\r\\n          details for productdetail page promotion\\n\\n\\n\\n\\n\\n\\n\\n\\n\\r\\n                      Deposits\\r\\n                    \\nPay&Save Account (with Multi Currency Feature)\\n\\r\\n                      Find Out More'), Document(page_content=\"Junior Fixed Deposit\\n\\n\\n\\n\\n\\n\\nMore Details\\n\\n\\n\\nAn attractive interest FD account for children below the age of 18\\n\\n\\n\\n\\n\\n\\n\\n\\n\\n\\nForeign Currency Fixed Deposit\\n\\n\\n\\n\\n\\n\\nMore Details\\n\\n\\n\\nA convenient way to invest in foreign currency\\n\\n\\n\\n\\n\\n\\n\\n\\n\\n\\n\\n\\n\\n\\n\\n\\n\\n\\n\\n\\n\\n\\n\\n\\n\\n\\n\\n\\n\\n\\n\\n\\n\\n\\n\\n\\nCredit Card Name\\n\\n\\n\\n\\n\\n\\n\\n\\n\\n\\n\\n\\n\\n\\n\\n\\n\\n\\n\\n\\nOur Artificial Intelligence Advisor is ready to assist you\\n\\n\\n\\n\\n\\n\\nChat with us\\n\\n\\n\\n\\n\\n\\n\\n×\\n\\n\\n\\n\\n\\n\\n\\n\\n\\n×  \\nExternal Link Disclaimer\\n\\n\\nYou are leaving Hong Leong Bank's website as such our Privacy Notice shall cease. We wish to remind you on our terms on the use of links,\\xa0Disclaimer\\xa0and\\xa0Reservation of Intellectual Property Rights.\\n\\n\\n\\nContinue\\nCancel\"), Document(page_content='Interest Payout\\n\\nReceive interest at maturity.\\n\\xa0\\n\\n\\n\\r\\n                            More details\\n\\r\\n                            Less details\\n\\n\\n\\n\\n\\n\\n\\n\\n\\n\\n\\n\\n\\n\\n\\n\\nFlexibility of early fixed deposit partial withdrawal without losing interest on remaining balance\\n\\nPartial withdrawal is in multiples of RM1,000. Outstanding balances will be\\xa0shown on the monthly e-statement.\\nEffective 1 January 2019, no interest shall be payable on partially withdrawn amounts and premature withdrawals of FD.\\n\\xa0\\n\\n\\n\\r\\n                            More details\\n\\r\\n                            Less details\\n\\n\\n\\n\\n\\n\\n\\n\\n\\n\\n\\n\\nConvenient Withdrawal\\n\\nYou can withdraw from any branch nationwide.\\xa0\\n\\n\\n\\r\\n                            More details\\n\\r\\n                            Less details\\n\\n\\n\\n\\n\\n\\n\\n\\n\\n\\n\\n\\n\\n\\n\\n\\nEligibility\\n\\n\\nMinimum deposit of RM5,000 for 1 month placement and RM500 for 2 months and above.\\nApplicable for individual and non-individual customers.\\n\\nFor Malaysian aged 18 years old & above.')]\n",
      "  If you don't have enought information from the document, don't answer with your own knowledge.\n",
      "  You can refer to chat history also.\n",
      "  Your answer should be detailed but if you have to do calculation, don't show your work or equations, double check your answer, just provide the final value, and you don't need to show reference.\n",
      "  If the bank's name is not provided in the input, answer with the assumption that the question is about HLB.\n",
      "  If the bank's name is provided and it's not HLB, don't answer that question.\n",
      "  You don't need to answer if the input requires you to do something creative such as writing a song or making a joke.\n",
      "\u001b[0m\n",
      "\n",
      "\u001b[1m> Finished chain.\u001b[0m\n",
      "Tokens Used: 1633\n",
      "\tPrompt Tokens: 1560\n",
      "\tCompletion Tokens: 73\n",
      "Successful Requests: 1\n",
      "Total Cost (USD): $0.01779\n",
      "\n",
      "Retrieved Documents:\n",
      "0. page_content='eFixed Deposit | FD Rate Malaysia - Hong Leong Bank\\n\\n\\n\\n\\n\\n\\n\\n\\n\\n\\ne-Fixed Deposits\\n \\nnull\\n\\n\\n\\n\\n\\n\\n\\n\\n\\n\\n\\n\\n\\n\\n\\n\\n\\n\\n\\n\\n\\n\\n\\nPERSONAL\\n\\n\\nBUSINESS\\n\\n\\n\\n                            Priority\\n\\n\\nPriority\\nIslamic\\nGlobal Markets\\nBlue Header\\nInterim Homepage\\nPriority Banking Form\\ntest\\ntest\\nLoan Cal\\nLog Viewer\\nasdsadsad\\nstand alone page\\nMaster Form Page\\nMaster Form Page\\n\\n\\n\\n\\n\\n\\n\\n\\n\\n\\n\\n\\n\\n\\n\\n\\nsingapore\\n\\n\\n\\nhong kong\\n\\n\\n\\nvietnam\\n\\n\\n\\ncambodia\\n\\n\\n\\n\\n\\n                            ENG\\n\\n\\nLAN A\\nLAN B\\nLAN C\\n\\n\\n\\n\\n                            Online Banking\\n                        \\n\\nPersonal\\nBusiness\\n\\n\\n\\n\\n\\n\\n\\n\\n\\n\\n\\n\\n\\n                                About Us\\n                            \\n\\nOur Story\\nNews & Updates\\nInvestor Relations\\nCSR\\nAwards\\nManagement & BODs\\nCareer\\n\\n\\n\\n\\n                                Discover Our Products\\n                            \\n\\nDeposits\\nCredit Card\\nLoans\\nInsurance\\nInvestment\\nRemittance\\nHong Leong Connect'\n",
      "1. page_content='Terms and Conditions apply.\\n\\n\\n\\n\\nMember of PIDM. Protected by PIDM up to RM250,000 for each depositor.\\n\\n\\n\\n\\n\\n\\n\\n\\n\\n\\n\\n\\n\\n\\n\\n\\n\\n\\n\\n\\n\\n\\n\\nTenure\\nInterest Rates (p.a.)\\n1 month\\n1.85%\\n2 months\\n2.25%\\n3 months\\n2.25%\\n4 months\\n2.30%\\n5 months\\n2.30%\\n6 months\\n2.30%\\n7 months\\n2.35%\\n8 months\\n2.35%\\n9 months\\n2.35%\\n10 months\\n2.35%\\n11 months\\n2.35%\\n12 months\\n2.35%\\n13 - 60 months\\n\\n2.35%\\n\\n\\n\\n\\n\\n\\n\\n\\n\\n\\n\\n\\n\\n\\n\\n\\n\\n\\nImportant notice\\nPlease click\\xa0HERE\\xa0for the exhaustive list of fees and charges.\\n\\n\\n\\n\\n\\n\\n\\n\\n\\n\\n\\n\\n\\n\\n\\n\\n\\nEnglish\\n\\n\\n\\n\\n\\n\\n\\n\\n\\n\\n\\ne-Fixed Deposit Terms and Conditions of Accounts\\n\\n\\n\\n\\n\\n\\n\\n\\nGeneral Term & Condition of Accounts\\n\\n\\n\\n\\n\\n\\n\\n\\n\\n\\n\\n\\n\\n\\n\\n\\n\\n\\n\\n\\n\\n\\nThese may interest you\\n\\n\\n\\n\\n\\nEdit here to enter\\r\\n          details for productdetail page promotion\\n\\n\\n\\n\\n\\n\\n\\n\\n\\r\\n                      Deposits\\r\\n                    \\nPay&Save Account (with Multi Currency Feature)\\n\\r\\n                      Find Out More'\n",
      "2. page_content=\"Junior Fixed Deposit\\n\\n\\n\\n\\n\\n\\nMore Details\\n\\n\\n\\nAn attractive interest FD account for children below the age of 18\\n\\n\\n\\n\\n\\n\\n\\n\\n\\n\\nForeign Currency Fixed Deposit\\n\\n\\n\\n\\n\\n\\nMore Details\\n\\n\\n\\nA convenient way to invest in foreign currency\\n\\n\\n\\n\\n\\n\\n\\n\\n\\n\\n\\n\\n\\n\\n\\n\\n\\n\\n\\n\\n\\n\\n\\n\\n\\n\\n\\n\\n\\n\\n\\n\\n\\n\\n\\n\\nCredit Card Name\\n\\n\\n\\n\\n\\n\\n\\n\\n\\n\\n\\n\\n\\n\\n\\n\\n\\n\\n\\n\\nOur Artificial Intelligence Advisor is ready to assist you\\n\\n\\n\\n\\n\\n\\nChat with us\\n\\n\\n\\n\\n\\n\\n\\n×\\n\\n\\n\\n\\n\\n\\n\\n\\n\\n×  \\nExternal Link Disclaimer\\n\\n\\nYou are leaving Hong Leong Bank's website as such our Privacy Notice shall cease. We wish to remind you on our terms on the use of links,\\xa0Disclaimer\\xa0and\\xa0Reservation of Intellectual Property Rights.\\n\\n\\n\\nContinue\\nCancel\"\n",
      "3. page_content='Interest Payout\\n\\nReceive interest at maturity.\\n\\xa0\\n\\n\\n\\r\\n                            More details\\n\\r\\n                            Less details\\n\\n\\n\\n\\n\\n\\n\\n\\n\\n\\n\\n\\n\\n\\n\\n\\nFlexibility of early fixed deposit partial withdrawal without losing interest on remaining balance\\n\\nPartial withdrawal is in multiples of RM1,000. Outstanding balances will be\\xa0shown on the monthly e-statement.\\nEffective 1 January 2019, no interest shall be payable on partially withdrawn amounts and premature withdrawals of FD.\\n\\xa0\\n\\n\\n\\r\\n                            More details\\n\\r\\n                            Less details\\n\\n\\n\\n\\n\\n\\n\\n\\n\\n\\n\\n\\nConvenient Withdrawal\\n\\nYou can withdraw from any branch nationwide.\\xa0\\n\\n\\n\\r\\n                            More details\\n\\r\\n                            Less details\\n\\n\\n\\n\\n\\n\\n\\n\\n\\n\\n\\n\\n\\n\\n\\n\\nEligibility\\n\\n\\nMinimum deposit of RM5,000 for 1 month placement and RM500 for 2 months and above.\\nApplicable for individual and non-individual customers.\\n\\nFor Malaysian aged 18 years old & above.'\n",
      "\n",
      "Answer: The difference between a fixed deposit and an e-fixed deposit at Hong Leong Bank (HLB) is not explicitly detailed in the provided documents. However, generally, an e-fixed deposit refers to a fixed deposit that can be placed and managed online through internet banking, offering convenience and possibly different rates or terms compared to traditional fixed deposits that are set up in branches.\n"
     ]
    }
   ],
   "source": [
    "ask_question(\"What is the difference between fixed deposit and e-fixed deposit?\")"
   ]
  },
  {
   "cell_type": "code",
   "execution_count": 48,
   "metadata": {},
   "outputs": [
    {
     "name": "stdout",
     "output_type": "stream",
     "text": [
      "\n",
      "\n",
      "\u001b[1m> Entering new LLMChain chain...\u001b[0m\n",
      "Prompt after formatting:\n",
      "\u001b[32;1m\u001b[1;3m\n",
      "  You are a helpful assistant who should reply to inputs related only to the HongLeong Bank aka HLB.\n",
      "\n",
      "  Chat History:\n",
      "  Human: Lets say I want to invest RM 5000 in Fixed Deposit for 36 months and the interest rate is 5%. Please calculate total withdrawal amount at the end of the term. Take note the interest rate is compund interest?\n",
      "AI: Based on the information provided in the documents, there is no specific mention of the compound interest rate for a Fixed Deposit of RM 5000 for 36 months. Therefore, I cannot calculate the total withdrawal amount at the end of the term with the given interest rate of 5% compound interest.\n",
      "Human: Write a poem for HLB fixed deposit.\n",
      "AI: Your request for a poem about HLB fixed deposit cannot be fulfilled as it requires a creative task which is outside the scope of the provided documents and instructions.\n",
      "Human: how many types of saving accounts are there in a general bank?\n",
      "AI: Based on the documents provided, HongLeong Bank offers at least two types of savings accounts: the Pay&Save Account (with Multi Currency Feature) and the 3-in-1 Junior Account.\n",
      "Human: What is the difference between fixed deposit and e-fixed deposit?\n",
      "AI: The difference between a fixed deposit and an e-fixed deposit at Hong Leong Bank (HLB) is not explicitly detailed in the provided documents. However, generally, an e-fixed deposit refers to a fixed deposit that can be placed and managed online through internet banking, offering convenience and possibly different rates or terms compared to traditional fixed deposits that are set up in branches.\n",
      "\n",
      "  Reply to the following input: Write a short story about HLB fixed deposit.\n",
      "  By only referring the follwing document: [Document(page_content='Fixed Deposit - HLB\\n\\n\\n\\n\\n\\n\\n\\n\\n\\n\\nFixed Deposit - HLB\\n \\n\\n\\n\\n\\n\\n\\n\\n\\n\\n\\n\\n\\n\\n\\n\\n\\n\\n\\n\\n\\n\\n\\n\\nPERSONAL\\n\\n\\nBUSINESS\\n\\n\\n\\n                            Priority\\n\\n\\nPriority\\nIslamic\\nGlobal Markets\\nBlue Header\\nInterim Homepage\\nPriority Banking Form\\ntest\\ntest\\nLoan Cal\\nLog Viewer\\nasdsadsad\\nstand alone page\\nMaster Form Page\\nMaster Form Page\\n\\n\\n\\n\\n\\n\\n\\n\\n\\n\\n\\n\\n\\n\\n\\n\\nsingapore\\n\\n\\n\\nhong kong\\n\\n\\n\\nvietnam\\n\\n\\n\\ncambodia\\n\\n\\n\\n\\n\\n                            ENG\\n\\n\\nLAN A\\nLAN B\\nLAN C\\n\\n\\n\\n\\n                            Online Banking\\n                        \\n\\nPersonal\\nBusiness\\n\\n\\n\\n\\n\\n\\n\\n\\n\\n\\n\\n\\n\\n                                About Us\\n                            \\n\\nOur Story\\nNews & Updates\\nInvestor Relations\\nCSR\\nAwards\\nManagement & BODs\\nCareer\\n\\n\\n\\n\\n                                Discover Our Products\\n                            \\n\\nDeposits\\nCredit Card\\nLoans\\nInsurance\\nInvestment\\nRemittance\\nHong Leong Connect\\n\\n\\n\\n\\n                                Apply Online'), Document(page_content='Apply Online\\n                            \\n\\nCredit Card\\nPersonal Loans\\nCurrent / Saving Account\\n\\n\\n\\n\\n                                Promotions\\n                            \\n\\nLatest Promotions\\n\\n\\n\\n\\n\\n\\n\\n\\n\\n\\n\\n\\n\\n\\n\\n\\n\\n\\n\\n\\n\\n\\n\\n\\n\\n\\n\\n\\n\\nFixed Deposit Account\\r\\n                                >\\n\\n\\r\\n                            Fixed Deposit\\r\\n                        \\n\\n\\n\\n\\n\\n\\n\\n\\n\\n\\n\\n\\n\\n\\n\\n\\n\\n\\n\\nThe perfect beginning for long-term savings.\\n\\n\\n\\n\\n\\n\\n\\n\\n\\nApply Now\\n\\n\\n\\n\\n\\n\\n\\n\\n\\n\\n\\n\\n\\n\\n\\n\\n\\n\\n\\n\\n\\n\\n\\n\\n\\n\\n\\n\\n\\n\\n\\n\\n\\nI’m interested\\n\\n\\n\\n\\n\\n\\n\\n\\n\\n\\n\\n\\n\\n\\n\\n\\n\\n\\n\\n\\n\\n\\n\\nFeatures & Benefits\\n\\n\\n\\n\\nFeatures & Benefits\\n\\n\\nInterest Rate (wef 21/07/2023)\\n\\n\\nFees & Charges\\n\\n\\nTerms & Conditions\\n\\n\\n\\n\\n\\n\\n\\n\\n\\n\\n\\n\\n\\nHLB Fixed Deposit account is a good start for your long-term savings plan.\\n\\n\\n\\n\\n\\n\\n\\n\\n\\n\\n\\nLong Term\\n\\nA choice of terms from 1 - 60 months.\\n\\xa0\\n\\n\\n\\r\\n                            More details\\n\\r\\n                            Less details\\n\\n\\n\\n\\n\\n\\n\\n\\n\\n\\n\\n\\nInterest Payout\\n\\nReceive interest at maturity.'), Document(page_content='Apply Online\\n                            \\n\\nCredit Card\\nPersonal Loans\\nCurrent / Saving Account\\n\\n\\n\\n\\n                                Promotions\\n                            \\n\\nLatest Promotions\\n\\n\\n\\n\\n\\n\\n\\n\\n\\n\\n\\n\\n\\n\\n\\n\\n\\n\\n\\n\\n\\n\\n\\n\\n\\n\\n\\n\\n\\nFixed Deposit Account\\r\\n                                >\\n\\n\\r\\n                            Flexi FD\\r\\n                        \\n\\n\\n\\n\\n\\n\\n\\n\\n\\n\\n\\n\\n\\n\\n\\n\\n\\n\\n\\nA truly flexible fixed deposit account\\n\\n\\n\\n\\n\\n\\n\\n\\n\\nApply Now\\n\\n\\n\\n\\n\\n\\n\\n\\n\\n\\n\\n\\n\\n\\n\\n\\n\\n\\n\\n\\n\\n\\n\\n\\n\\n\\n\\n\\n\\n\\n\\n\\n\\nI’m interested\\n\\n\\n\\n\\n\\n\\n\\n\\n\\n\\n\\n\\n\\n\\n\\n\\n\\n\\n\\n\\n\\n\\n\\nFeatures & Benefits\\n\\n\\n\\n\\nFeatures & Benefits\\n\\n\\nOther Flexible Feature\\n\\n\\nInterest Rate (wef 21/07/2023)\\n\\n\\nFees & Charges\\n\\n\\nTerms & Conditions\\n\\n\\n\\n\\n\\n\\n\\n\\n\\n\\n\\n\\n\\nHLB Flexi Fixed Deposit rewards you with attractive interest and auto-sweep facility from Flexi Fixed Deposit to Flexi One Account or vice versa.\\n\\n\\n\\n\\n\\n\\n\\n\\n\\n\\n\\nEarn attractive FD interest for 12-month tenure'), Document(page_content='Deposits\\nCredit Card\\nLoans\\nInsurance\\nInvestment\\nRemittance\\nHong Leong Connect\\n\\n\\n\\n\\n                                Apply Online\\n                            \\n\\nCredit Card\\nPersonal Loans\\nCurrent / Saving Account\\n\\n\\n\\n\\n                                Promotions\\n                            \\n\\nLatest Promotions\\n\\n\\n\\n\\n\\n\\n\\n\\n\\n\\n\\n\\n\\n\\n\\n\\n\\n\\n\\n\\n\\n\\n\\n\\n\\n\\n\\n\\n\\nFixed Deposit Account\\r\\n                                >\\n\\n\\r\\n                            Junior Fixed Deposit\\r\\n                        \\n\\n\\n\\n\\n\\n\\n\\n\\n\\n\\n\\n\\n\\n\\n\\n\\n\\n\\nI’m interested\\n\\n\\n\\n\\n\\n\\n\\n\\n\\n\\n\\n\\n\\n\\n\\n\\n\\n\\n\\n\\n\\n\\n\\n\\n\\n\\n\\n\\n\\n\\n\\nA fixed deposit account for your child\\n\\n\\n\\n\\n\\n\\n\\n\\n\\nApply Now\\n\\n\\n\\n\\n\\n\\n\\n\\n\\n\\n\\n\\n\\n\\n\\n\\n\\n\\n\\n\\n\\n\\n\\n\\n\\n\\n\\nFeatures & Benefits\\n\\n\\n\\n\\nFeatures & Benefits\\n\\n\\nInterest Rate (wef 21/07/2023)\\n\\n\\nHow to Apply\\n\\n\\nFees and Charges\\n\\n\\nTerms & Conditions\\n\\n\\n\\n\\n\\n\\n\\n\\n\\n\\n\\n\\n\\nJunior Fixed Deposit account is designed for children below the age of 18. It gives attractive\\xa0interest that’s calculated daily. Fixed deposit placement starts from RM1,000.')]\n",
      "  If you don't have enought information from the document, don't answer with your own knowledge.\n",
      "  You can refer to chat history also.\n",
      "  Your answer should be detailed but if you have to do calculation, don't show your work or equations, double check your answer, just provide the final value, and you don't need to show reference.\n",
      "  If the bank's name is not provided in the input, answer with the assumption that the question is about HLB.\n",
      "  If the bank's name is provided and it's not HLB, don't answer that question.\n",
      "  You don't need to answer if the input requires you to do something creative such as writing a song or making a joke.\n",
      "\u001b[0m\n",
      "\n",
      "\u001b[1m> Finished chain.\u001b[0m\n",
      "Tokens Used: 1748\n",
      "\tPrompt Tokens: 1724\n",
      "\tCompletion Tokens: 24\n",
      "Successful Requests: 1\n",
      "Total Cost (USD): $0.01796\n",
      "\n",
      "Retrieved Documents:\n",
      "0. page_content='Fixed Deposit - HLB\\n\\n\\n\\n\\n\\n\\n\\n\\n\\n\\nFixed Deposit - HLB\\n \\n\\n\\n\\n\\n\\n\\n\\n\\n\\n\\n\\n\\n\\n\\n\\n\\n\\n\\n\\n\\n\\n\\n\\nPERSONAL\\n\\n\\nBUSINESS\\n\\n\\n\\n                            Priority\\n\\n\\nPriority\\nIslamic\\nGlobal Markets\\nBlue Header\\nInterim Homepage\\nPriority Banking Form\\ntest\\ntest\\nLoan Cal\\nLog Viewer\\nasdsadsad\\nstand alone page\\nMaster Form Page\\nMaster Form Page\\n\\n\\n\\n\\n\\n\\n\\n\\n\\n\\n\\n\\n\\n\\n\\n\\nsingapore\\n\\n\\n\\nhong kong\\n\\n\\n\\nvietnam\\n\\n\\n\\ncambodia\\n\\n\\n\\n\\n\\n                            ENG\\n\\n\\nLAN A\\nLAN B\\nLAN C\\n\\n\\n\\n\\n                            Online Banking\\n                        \\n\\nPersonal\\nBusiness\\n\\n\\n\\n\\n\\n\\n\\n\\n\\n\\n\\n\\n\\n                                About Us\\n                            \\n\\nOur Story\\nNews & Updates\\nInvestor Relations\\nCSR\\nAwards\\nManagement & BODs\\nCareer\\n\\n\\n\\n\\n                                Discover Our Products\\n                            \\n\\nDeposits\\nCredit Card\\nLoans\\nInsurance\\nInvestment\\nRemittance\\nHong Leong Connect\\n\\n\\n\\n\\n                                Apply Online'\n",
      "1. page_content='Apply Online\\n                            \\n\\nCredit Card\\nPersonal Loans\\nCurrent / Saving Account\\n\\n\\n\\n\\n                                Promotions\\n                            \\n\\nLatest Promotions\\n\\n\\n\\n\\n\\n\\n\\n\\n\\n\\n\\n\\n\\n\\n\\n\\n\\n\\n\\n\\n\\n\\n\\n\\n\\n\\n\\n\\n\\nFixed Deposit Account\\r\\n                                >\\n\\n\\r\\n                            Fixed Deposit\\r\\n                        \\n\\n\\n\\n\\n\\n\\n\\n\\n\\n\\n\\n\\n\\n\\n\\n\\n\\n\\n\\nThe perfect beginning for long-term savings.\\n\\n\\n\\n\\n\\n\\n\\n\\n\\nApply Now\\n\\n\\n\\n\\n\\n\\n\\n\\n\\n\\n\\n\\n\\n\\n\\n\\n\\n\\n\\n\\n\\n\\n\\n\\n\\n\\n\\n\\n\\n\\n\\n\\n\\nI’m interested\\n\\n\\n\\n\\n\\n\\n\\n\\n\\n\\n\\n\\n\\n\\n\\n\\n\\n\\n\\n\\n\\n\\n\\nFeatures & Benefits\\n\\n\\n\\n\\nFeatures & Benefits\\n\\n\\nInterest Rate (wef 21/07/2023)\\n\\n\\nFees & Charges\\n\\n\\nTerms & Conditions\\n\\n\\n\\n\\n\\n\\n\\n\\n\\n\\n\\n\\n\\nHLB Fixed Deposit account is a good start for your long-term savings plan.\\n\\n\\n\\n\\n\\n\\n\\n\\n\\n\\n\\nLong Term\\n\\nA choice of terms from 1 - 60 months.\\n\\xa0\\n\\n\\n\\r\\n                            More details\\n\\r\\n                            Less details\\n\\n\\n\\n\\n\\n\\n\\n\\n\\n\\n\\n\\nInterest Payout\\n\\nReceive interest at maturity.'\n",
      "2. page_content='Apply Online\\n                            \\n\\nCredit Card\\nPersonal Loans\\nCurrent / Saving Account\\n\\n\\n\\n\\n                                Promotions\\n                            \\n\\nLatest Promotions\\n\\n\\n\\n\\n\\n\\n\\n\\n\\n\\n\\n\\n\\n\\n\\n\\n\\n\\n\\n\\n\\n\\n\\n\\n\\n\\n\\n\\n\\nFixed Deposit Account\\r\\n                                >\\n\\n\\r\\n                            Flexi FD\\r\\n                        \\n\\n\\n\\n\\n\\n\\n\\n\\n\\n\\n\\n\\n\\n\\n\\n\\n\\n\\n\\nA truly flexible fixed deposit account\\n\\n\\n\\n\\n\\n\\n\\n\\n\\nApply Now\\n\\n\\n\\n\\n\\n\\n\\n\\n\\n\\n\\n\\n\\n\\n\\n\\n\\n\\n\\n\\n\\n\\n\\n\\n\\n\\n\\n\\n\\n\\n\\n\\n\\nI’m interested\\n\\n\\n\\n\\n\\n\\n\\n\\n\\n\\n\\n\\n\\n\\n\\n\\n\\n\\n\\n\\n\\n\\n\\nFeatures & Benefits\\n\\n\\n\\n\\nFeatures & Benefits\\n\\n\\nOther Flexible Feature\\n\\n\\nInterest Rate (wef 21/07/2023)\\n\\n\\nFees & Charges\\n\\n\\nTerms & Conditions\\n\\n\\n\\n\\n\\n\\n\\n\\n\\n\\n\\n\\n\\nHLB Flexi Fixed Deposit rewards you with attractive interest and auto-sweep facility from Flexi Fixed Deposit to Flexi One Account or vice versa.\\n\\n\\n\\n\\n\\n\\n\\n\\n\\n\\n\\nEarn attractive FD interest for 12-month tenure'\n",
      "3. page_content='Deposits\\nCredit Card\\nLoans\\nInsurance\\nInvestment\\nRemittance\\nHong Leong Connect\\n\\n\\n\\n\\n                                Apply Online\\n                            \\n\\nCredit Card\\nPersonal Loans\\nCurrent / Saving Account\\n\\n\\n\\n\\n                                Promotions\\n                            \\n\\nLatest Promotions\\n\\n\\n\\n\\n\\n\\n\\n\\n\\n\\n\\n\\n\\n\\n\\n\\n\\n\\n\\n\\n\\n\\n\\n\\n\\n\\n\\n\\n\\nFixed Deposit Account\\r\\n                                >\\n\\n\\r\\n                            Junior Fixed Deposit\\r\\n                        \\n\\n\\n\\n\\n\\n\\n\\n\\n\\n\\n\\n\\n\\n\\n\\n\\n\\n\\nI’m interested\\n\\n\\n\\n\\n\\n\\n\\n\\n\\n\\n\\n\\n\\n\\n\\n\\n\\n\\n\\n\\n\\n\\n\\n\\n\\n\\n\\n\\n\\n\\n\\nA fixed deposit account for your child\\n\\n\\n\\n\\n\\n\\n\\n\\n\\nApply Now\\n\\n\\n\\n\\n\\n\\n\\n\\n\\n\\n\\n\\n\\n\\n\\n\\n\\n\\n\\n\\n\\n\\n\\n\\n\\n\\n\\nFeatures & Benefits\\n\\n\\n\\n\\nFeatures & Benefits\\n\\n\\nInterest Rate (wef 21/07/2023)\\n\\n\\nHow to Apply\\n\\n\\nFees and Charges\\n\\n\\nTerms & Conditions\\n\\n\\n\\n\\n\\n\\n\\n\\n\\n\\n\\n\\n\\nJunior Fixed Deposit account is designed for children below the age of 18. It gives attractive\\xa0interest that’s calculated daily. Fixed deposit placement starts from RM1,000.'\n",
      "\n",
      "Answer: I'm sorry, but the documents provided do not contain enough information to write a short story about HLB fixed deposit.\n"
     ]
    }
   ],
   "source": [
    "ask_question(\"Write a short story about HLB fixed deposit.\")"
   ]
  }
 ],
 "metadata": {
  "kernelspec": {
   "display_name": "venv",
   "language": "python",
   "name": "python3"
  },
  "language_info": {
   "codemirror_mode": {
    "name": "ipython",
    "version": 3
   },
   "file_extension": ".py",
   "mimetype": "text/x-python",
   "name": "python",
   "nbconvert_exporter": "python",
   "pygments_lexer": "ipython3",
   "version": "3.11.7"
  }
 },
 "nbformat": 4,
 "nbformat_minor": 2
}
