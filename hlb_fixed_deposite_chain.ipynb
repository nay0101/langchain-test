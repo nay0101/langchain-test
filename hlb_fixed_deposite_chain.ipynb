{
 "cells": [
  {
   "cell_type": "markdown",
   "metadata": {},
   "source": [
    "Load API Keys"
   ]
  },
  {
   "cell_type": "code",
   "execution_count": null,
   "metadata": {},
   "outputs": [],
   "source": [
    "from dotenv import load_dotenv\n",
    "load_dotenv()"
   ]
  },
  {
   "cell_type": "markdown",
   "metadata": {},
   "source": [
    "Load Contents from HLB Fixed Deposite Pages"
   ]
  },
  {
   "cell_type": "code",
   "execution_count": null,
   "metadata": {},
   "outputs": [],
   "source": [
    "from langchain.document_loaders import WebBaseLoader\n",
    "\n",
    "loader = WebBaseLoader([\n",
    "  \"https://www.hlb.com.my/en/personal-banking/fixed-deposit.html?icp=hlb-en-all-footer-txt-fd\",\n",
    "  \"https://www.hlb.com.my/en/personal-banking/fixed-deposit/fixed-deposit-account/fixed-deposit-account.html\", \n",
    "  \"https://www.hlb.com.my/en/personal-banking/fixed-deposit/fixed-deposit-account/e-fixed-deposit.html\",\n",
    "  \"https://www.hlb.com.my/en/personal-banking/fixed-deposit/fixed-deposit-account/flexi-fd.html\",\n",
    "  \"https://www.hlb.com.my/en/personal-banking/fixed-deposit/fixed-deposit-account/senior-savers-flexi-fd.html\",\n",
    "  \"https://www.hlb.com.my/en/personal-banking/fixed-deposit/fixed-deposit-account/junior-fixed-deposit.html\",\n",
    "  \"https://www.hlb.com.my/en/personal-banking/fixed-deposit/fixed-deposit-account/foreign-fixed-deposit-account.html\",\n",
    "  \"https://www.hlb.com.my/en/personal-banking/help-support/fees-and-charges/deposits.html\",\n",
    "])\n",
    "data = loader.load()\n",
    "data"
   ]
  },
  {
   "cell_type": "markdown",
   "metadata": {},
   "source": [
    "Split the Loaded Data into Chunks"
   ]
  },
  {
   "cell_type": "code",
   "execution_count": null,
   "metadata": {},
   "outputs": [],
   "source": [
    "from langchain.text_splitter import RecursiveCharacterTextSplitter\n",
    "\n",
    "text_splitter = RecursiveCharacterTextSplitter(chunk_size=1000, chunk_overlap=100)\n",
    "texts = text_splitter.split_documents(data)\n",
    "texts"
   ]
  },
  {
   "cell_type": "markdown",
   "metadata": {},
   "source": [
    "Initialize Pinecone"
   ]
  },
  {
   "cell_type": "code",
   "execution_count": null,
   "metadata": {},
   "outputs": [],
   "source": [
    "import pinecone\n",
    "import os\n",
    "\n",
    "pinecone.init(\n",
    "  api_key=os.getenv(\"PINECONE_API_KEY\"),\n",
    "  environment=os.getenv(\"PINECONE_ENVIRONMENT\")\n",
    ")\n",
    "index_name = \"main-index\"\n",
    "namespace = \"hlb-fixed-deposit\"\n",
    "if index_name not in pinecone.list_indexes():\n",
    "  pinecone.create_index(\n",
    "    name=index_name,\n",
    "    metric=\"cosine\",\n",
    "    dimension=1536\n",
    "  )\n",
    "index = pinecone.Index(index_name)\n",
    "index.delete(delete_all=True, namespace=namespace)"
   ]
  },
  {
   "cell_type": "markdown",
   "metadata": {},
   "source": [
    "Create Embeddings and Vectors to Insert to Pinecone Database"
   ]
  },
  {
   "cell_type": "code",
   "execution_count": null,
   "metadata": {},
   "outputs": [],
   "source": [
    "from langchain.vectorstores import Pinecone\n",
    "from langchain.embeddings import OpenAIEmbeddings\n",
    "\n",
    "embeddings = OpenAIEmbeddings(model=\"text-embedding-ada-002\")\n",
    "docs = [t.page_content for t in texts]\n",
    "vector = Pinecone.from_texts(docs, embeddings, index_name=index_name, namespace=namespace)"
   ]
  },
  {
   "cell_type": "markdown",
   "metadata": {},
   "source": [
    "Create Retriever for Vector Search"
   ]
  },
  {
   "cell_type": "code",
   "execution_count": null,
   "metadata": {},
   "outputs": [],
   "source": [
    "retriever = vector.as_retriever(search_type=\"similarity_score_threshold\" ,search_kwargs={'score_threshold': 0.6, 'k': 4})\n",
    "retriever"
   ]
  },
  {
   "cell_type": "markdown",
   "metadata": {},
   "source": [
    "Creating Prompt Template"
   ]
  },
  {
   "cell_type": "code",
   "execution_count": null,
   "metadata": {},
   "outputs": [],
   "source": [
    "from langchain.chat_models import ChatOpenAI\n",
    "from langchain.prompts import PromptTemplate\n",
    "\n",
    "llm = ChatOpenAI(model=\"gpt-4-1106-preview\", temperature=0)\n",
    "prompt_template = \"\"\"\n",
    "  You are a helpful assistant who should reply to inputs related only to the HongLeong Bank aka HLB.\n",
    "\n",
    "  Chat History:\n",
    "  {chat_history}\n",
    "\n",
    "  Reply to the following input: {input}\n",
    "  By only referring the follwing document: {document}\n",
    "  You can refer to chat history also.\n",
    "  If the document is null, you say you don't have information.\n",
    "  If you feel like you don't have enough information, you say you don't have information.\n",
    "  If you are not sure about deposit type, you can ask for clarification.\n",
    "  Your answer should be detailed but if you have to do calculation, don't show your work or equations, just provide the final value, and you don't need to show reference.\n",
    "  If the bank's name is not provided in the input, answer with the assumption that the question is about HLB.\n",
    "  If the bank's name is provided and it's not HLB, don't answer that question.\n",
    "  You don't need to answer if the input requires you to do something creative such as writing a song or making a joke.\n",
    "\"\"\"\n",
    "prompt = PromptTemplate(template=prompt_template, input_variables=['input', 'document', 'chat_history'])"
   ]
  },
  {
   "cell_type": "markdown",
   "metadata": {},
   "source": [
    "Storing History and Creating Chain"
   ]
  },
  {
   "cell_type": "code",
   "execution_count": null,
   "metadata": {},
   "outputs": [],
   "source": [
    "from langchain.chains import LLMChain\n",
    "from langchain.memory import ConversationBufferWindowMemory\n",
    "from langchain.callbacks import get_openai_callback\n",
    "\n",
    "memory = ConversationBufferWindowMemory(memory_key=\"chat_history\", input_key=\"input\", k=4)\n",
    "chain = LLMChain(llm=llm, prompt=prompt, memory=memory, verbose=True)\n",
    "\n",
    "def ask_question(question):\n",
    "  with get_openai_callback() as cb:\n",
    "      document = retriever.get_relevant_documents(question)\n",
    "      result = chain.run(input=question, document=document)\n",
    "      print(f'{cb}\\n')\n",
    "      print('Retrieved Documents:')\n",
    "      for i in range(len(document)):\n",
    "        print(f'{i}. {document[i]}')\n",
    "      print(f'\\nAnswer: {result}')\n"
   ]
  },
  {
   "cell_type": "markdown",
   "metadata": {},
   "source": [
    "Running the Chain"
   ]
  },
  {
   "cell_type": "code",
   "execution_count": null,
   "metadata": {},
   "outputs": [],
   "source": [
    "ask_question(\"What is compound interest?\")"
   ]
  },
  {
   "cell_type": "code",
   "execution_count": null,
   "metadata": {},
   "outputs": [],
   "source": [
    "ask_question(\"What is fixed deposit?\")"
   ]
  },
  {
   "cell_type": "code",
   "execution_count": null,
   "metadata": {},
   "outputs": [],
   "source": [
    "ask_question(\"How many types of fixed deposit are there?\")"
   ]
  },
  {
   "cell_type": "code",
   "execution_count": null,
   "metadata": {},
   "outputs": [],
   "source": [
    "ask_question(\"tell me about the 4th one\")"
   ]
  },
  {
   "cell_type": "code",
   "execution_count": null,
   "metadata": {},
   "outputs": [],
   "source": [
    "ask_question(\"What are the pros and cons of fixed deposit?\")"
   ]
  },
  {
   "cell_type": "code",
   "execution_count": null,
   "metadata": {},
   "outputs": [],
   "source": [
    "ask_question(\"Who is jay z?\")"
   ]
  },
  {
   "cell_type": "code",
   "execution_count": null,
   "metadata": {},
   "outputs": [],
   "source": [
    "ask_question(\"Are you sure you dont know Jay Z? He is a very popular hip hop artist?\")"
   ]
  },
  {
   "cell_type": "code",
   "execution_count": null,
   "metadata": {},
   "outputs": [],
   "source": [
    "ask_question(\"How many types of fixed deposit Citibank provide?\")"
   ]
  },
  {
   "cell_type": "code",
   "execution_count": null,
   "metadata": {},
   "outputs": [],
   "source": [
    "ask_question(\"What are the interest rates for Fixed Deposit?\")"
   ]
  },
  {
   "cell_type": "code",
   "execution_count": null,
   "metadata": {},
   "outputs": [],
   "source": [
    "ask_question(\"Can you find out by browsing the web?\")"
   ]
  },
  {
   "cell_type": "code",
   "execution_count": null,
   "metadata": {},
   "outputs": [],
   "source": [
    "ask_question(\"Lets say I want to invest RM 5000 in Fixed Deposit for 36 months and the interest rate is 5%. Please calculate total withdrawal amount at the end of the term. Take note the interest rate is compund interest?\")"
   ]
  },
  {
   "cell_type": "code",
   "execution_count": null,
   "metadata": {},
   "outputs": [],
   "source": [
    "ask_question(\"Lets say I want to invest RM 5000 in Fixed Deposit for 9 months. Please calculate total withdrawal amount at the end of the term.\")"
   ]
  },
  {
   "cell_type": "code",
   "execution_count": null,
   "metadata": {},
   "outputs": [],
   "source": [
    "ask_question(\"Can a non-resident of Malaysia invest in CIMB SGD fixed deposit?\")"
   ]
  },
  {
   "cell_type": "code",
   "execution_count": null,
   "metadata": {},
   "outputs": [],
   "source": [
    "ask_question(\"Who is the CEO of CIMB bank?\")"
   ]
  },
  {
   "cell_type": "code",
   "execution_count": null,
   "metadata": {},
   "outputs": [],
   "source": [
    "ask_question(\"What is CIMB net profit for the last financial year?\")"
   ]
  },
  {
   "cell_type": "code",
   "execution_count": null,
   "metadata": {},
   "outputs": [],
   "source": [
    "ask_question(\"What if Jay Z from United States wants to invest in SGD fixed deposit. Is that ok ?\")"
   ]
  },
  {
   "cell_type": "code",
   "execution_count": null,
   "metadata": {},
   "outputs": [],
   "source": [
    "ask_question(\"What if Michael Jackson wants to invest in SGD Fixed Deposit. Is that ok?\")"
   ]
  },
  {
   "cell_type": "code",
   "execution_count": null,
   "metadata": {},
   "outputs": [],
   "source": [
    "ask_question(\"Write a poem for HLB fixed deposit.\")"
   ]
  },
  {
   "cell_type": "code",
   "execution_count": null,
   "metadata": {},
   "outputs": [],
   "source": [
    "ask_question(\"What is the difference between fixed deposit and e-fixed deposit?\")"
   ]
  },
  {
   "cell_type": "code",
   "execution_count": null,
   "metadata": {},
   "outputs": [],
   "source": [
    "ask_question(\"how many types of saving accounts are there in a general bank except HLB?\")"
   ]
  }
 ],
 "metadata": {
  "kernelspec": {
   "display_name": "venv",
   "language": "python",
   "name": "python3"
  },
  "language_info": {
   "codemirror_mode": {
    "name": "ipython",
    "version": 3
   },
   "file_extension": ".py",
   "mimetype": "text/x-python",
   "name": "python",
   "nbconvert_exporter": "python",
   "pygments_lexer": "ipython3",
   "version": "3.11.7"
  }
 },
 "nbformat": 4,
 "nbformat_minor": 2
}
